{
 "cells": [
  {
   "cell_type": "code",
   "execution_count": null,
   "source": [
    "import sys\n",
    "from helper import *\n",
    "from datetime import datetime, timedelta\n",
    "from indicators import SslChannel, ExponentialMovingAverage\n",
    "from strategies import SslChannelEmaStrategy\n",
    "import mplfinance as mpf\n",
    "from api.api import *"
   ],
   "outputs": [],
   "metadata": {}
  },
  {
   "cell_type": "code",
   "execution_count": null,
   "source": [
    "ssl_channel_ema_strategy = SslChannelEmaStrategy()"
   ],
   "outputs": [],
   "metadata": {}
  },
  {
   "cell_type": "code",
   "execution_count": null,
   "source": [
    "candlestick_5m, candlestick_1h = ssl_channel_ema_strategy.calculate_current_trend()"
   ],
   "outputs": [],
   "metadata": {}
  },
  {
   "cell_type": "code",
   "execution_count": null,
   "source": [
    "ssl_channel = SslChannel()\n",
    "ema = ExponentialMovingAverage()"
   ],
   "outputs": [],
   "metadata": {}
  },
  {
   "cell_type": "code",
   "execution_count": null,
   "source": [
    "candlestick_df_ssl = ssl_channel.apply_indicator(candlestick_5m)\n",
    "candlestick_df_ssl_ema = ema.apply_indicator(candlestick_df_ssl)"
   ],
   "outputs": [],
   "metadata": {}
  },
  {
   "cell_type": "code",
   "execution_count": null,
   "source": [
    "candlestick_df_ssl_ema.tail()"
   ],
   "outputs": [],
   "metadata": {}
  },
  {
   "cell_type": "code",
   "execution_count": null,
   "source": [
    "# Plots\n",
    "apds = [\n",
    "    mpf.make_addplot(candlestick_df_ssl_ema[['ssl_channel_ssl_down']], color='violet'),\n",
    "    mpf.make_addplot(candlestick_df_ssl_ema[['ssl_channel_ssl_up']], color='blue'),\n",
    "    mpf.make_addplot(candlestick_df_ssl_ema[['ema_10']], color='orange'),\n",
    "    mpf.make_addplot(candlestick_df_ssl_ema[['ssl_channel_trend']])\n",
    "]\n",
    "\n",
    "\n",
    "mpf.plot(candlestick_df_ssl_ema, type='candle', style='charles', addplot=apds)"
   ],
   "outputs": [],
   "metadata": {}
  },
  {
   "cell_type": "code",
   "execution_count": null,
   "source": [
    "from connectors import BitstampConnector,DummyConnector"
   ],
   "outputs": [],
   "metadata": {}
  },
  {
   "cell_type": "code",
   "execution_count": null,
   "source": [
    "bitstamp_connector = BitstampConnector()\n",
    "dummy_connector =DummyConnector()"
   ],
   "outputs": [],
   "metadata": {}
  },
  {
   "cell_type": "code",
   "execution_count": null,
   "source": [
    "bitstamp_connector.get_balance()"
   ],
   "outputs": [],
   "metadata": {}
  },
  {
   "cell_type": "code",
   "execution_count": null,
   "source": [
    "dummy_connector.get_balance()"
   ],
   "outputs": [],
   "metadata": {}
  },
  {
   "cell_type": "code",
   "execution_count": null,
   "source": [
    "dummy_connector.buy_eth(0.03, 1000)"
   ],
   "outputs": [],
   "metadata": {}
  },
  {
   "cell_type": "code",
   "execution_count": null,
   "source": [
    "dummy_connector.get_balance()"
   ],
   "outputs": [],
   "metadata": {}
  },
  {
   "cell_type": "code",
   "execution_count": null,
   "source": [
    "dummy_connector.sell_eth(0.05, 1000)\n",
    "dummy_connector.get_balance()"
   ],
   "outputs": [],
   "metadata": {}
  },
  {
   "cell_type": "code",
   "execution_count": null,
   "source": [
    "bitstamp_connector.buy_eth(0.05, 1000)"
   ],
   "outputs": [],
   "metadata": {}
  },
  {
   "cell_type": "code",
   "execution_count": null,
   "source": [],
   "outputs": [],
   "metadata": {}
  },
  {
   "cell_type": "code",
   "execution_count": null,
   "source": [
    "bitstamp_connector.sell_eth(0.04, 10000)"
   ],
   "outputs": [],
   "metadata": {}
  },
  {
   "cell_type": "code",
   "execution_count": null,
   "source": [
    "# Initial account-balance\n",
    "from models import InfluxConnector, AccountBalance\n",
    "from datetime import datetime\n",
    "\n",
    "influx_connector = InfluxConnector()\n",
    "client = influx_connector.client\n",
    "\n",
    "current_account_balance = AccountBalance(timestamp_utc=datetime.utcnow(), pair=\"ETH-EUR\", exchange=\"Bitstamp\", eth_available=0, eur_available=500, balance_total=500)\n",
    "influx_connector.write_point(current_account_balance.to_influx(connector=\"simulator\"))\n"
   ],
   "outputs": [],
   "metadata": {}
  },
  {
   "cell_type": "code",
   "execution_count": null,
   "source": [
    "from connectors import BitstampConnector,DummyConnector\n",
    "\n",
    "dummy_connector = DummyConnector()\n",
    "current_balance = dummy_connector.get_balance()\n",
    "\n",
    "print(\"current_balance.eur_available\",current_balance.eur_available)\n"
   ],
   "outputs": [],
   "metadata": {}
  },
  {
   "cell_type": "code",
   "execution_count": null,
   "source": [
    "dummy_connector.buy_eth(0.05,1000)"
   ],
   "outputs": [],
   "metadata": {}
  },
  {
   "cell_type": "code",
   "execution_count": null,
   "source": [
    "dummy_connector.sell_eth(0.03,1050)"
   ],
   "outputs": [],
   "metadata": {}
  },
  {
   "cell_type": "code",
   "execution_count": null,
   "source": [
    "dummy_connector.sell_eth(0.02,1100)"
   ],
   "outputs": [],
   "metadata": {}
  },
  {
   "cell_type": "code",
   "execution_count": null,
   "source": [
    "from connectors import DummyConnector\n",
    "from strategies import SimpleStrategy\n",
    "\n",
    "dummy_connector = DummyConnector()\n",
    "simple_strategy = SimpleStrategy()\n"
   ],
   "outputs": [],
   "metadata": {}
  },
  {
   "cell_type": "code",
   "execution_count": null,
   "source": [
    "from api.api import get_eth_eur_values\n",
    "from helper import create_candlesticks\n",
    "import mplfinance as mpf\n",
    "live_trades= get_eth_eur_values(from_dt_str=\"now()-4d\")\n",
    "candlestick_5m = create_candlesticks(live_trades)"
   ],
   "outputs": [],
   "metadata": {}
  },
  {
   "cell_type": "code",
   "execution_count": null,
   "source": [
    "candlestick_5m.tail()"
   ],
   "outputs": [],
   "metadata": {}
  },
  {
   "cell_type": "code",
   "execution_count": null,
   "source": [
    "candlestick_5m= candlestick_5m.set_index('timestamp_utc')"
   ],
   "outputs": [],
   "metadata": {}
  },
  {
   "cell_type": "code",
   "execution_count": null,
   "source": [
    "mpf.plot(candlestick_5m, type='candle', style='charles')"
   ],
   "outputs": [],
   "metadata": {}
  },
  {
   "cell_type": "code",
   "execution_count": null,
   "source": [
    "import talib\n"
   ],
   "outputs": [],
   "metadata": {}
  },
  {
   "cell_type": "code",
   "execution_count": null,
   "source": [
    "candle_names = talib.get_function_groups()['Pattern Recognition']"
   ],
   "outputs": [],
   "metadata": {}
  },
  {
   "cell_type": "code",
   "execution_count": null,
   "source": [
    "candlestick_5m['engulfing'] = talib.CDLENGULFING(candlestick_5m['open'],candlestick_5m['high'], candlestick_5m['low'], candlestick_5m['close'])"
   ],
   "outputs": [],
   "metadata": {}
  },
  {
   "cell_type": "code",
   "execution_count": null,
   "source": [
    "candlestick_5m.loc[candlestick_5m.engulfing>0]"
   ],
   "outputs": [],
   "metadata": {}
  },
  {
   "cell_type": "code",
   "execution_count": null,
   "source": [
    "#candlestick_5m.tail(50)"
   ],
   "outputs": [],
   "metadata": {}
  },
  {
   "cell_type": "code",
   "execution_count": null,
   "source": [
    "candlestick_5m['ema_10'] = talib.EMA( candlestick_5m['close'],10)\n",
    "candlestick_5m['ema_20'] = talib.EMA( candlestick_5m['close'],20)"
   ],
   "outputs": [],
   "metadata": {}
  },
  {
   "cell_type": "code",
   "execution_count": null,
   "source": [
    "candlestick_5m.tail(50)"
   ],
   "outputs": [],
   "metadata": {}
  },
  {
   "cell_type": "code",
   "execution_count": null,
   "source": [
    "# Plots\n",
    "apds = [\n",
    "    mpf.make_addplot(candlestick_5m[['ema_10']], color='violet'),\n",
    "    mpf.make_addplot(candlestick_5m[['ema_20']], color='orange'),\n",
    "]\n",
    "mpf.plot(candlestick_5m, type='candle', style='charles', addplot=apds)"
   ],
   "outputs": [],
   "metadata": {}
  },
  {
   "cell_type": "code",
   "execution_count": null,
   "source": [
    "from connectors import BitstampConnector,DummyConnector\n",
    "\n",
    "dummy_connector = DummyConnector()\n",
    "current_balance = dummy_connector.get_last_transaction(type='sell')\n",
    "print(\"current_balance.amount\",current_balance.amount)\n",
    "\n",
    "bitstamp_connector = BitstampConnector()\n",
    "last_transaction= dummy_connector.get_last_transaction()\n",
    "if last_transaction.id is None:\n",
    "    print(\"empty transactions\")\n",
    "else:\n",
    "    print(\"last_transaction.id\",last_transaction.id)"
   ],
   "outputs": [],
   "metadata": {}
  },
  {
   "cell_type": "code",
   "execution_count": 21,
   "source": [
    "from connectors import DummyConnector\n",
    "from strategies import SimpleStrategy\n",
    "\n",
    "dummy_connector = DummyConnector()\n",
    "simple_strategy = SimpleStrategy()"
   ],
   "outputs": [
    {
     "output_type": "stream",
     "name": "stdout",
     "text": [
      "influx_client <influxdb.client.InfluxDBClient object at 0x7f1a3c388650>\n",
      "type(result_points[idx]) <class 'dict'>\n",
      "influx_connector InfluxConnector(client=<influxdb.client.InfluxDBClient object at 0x7f1a3c305f10>)\n",
      "account_balance.to_influx() {'measurement': 'simulator_account_balance', 'tags': {'pair': 'ETH-EUR', 'exchange': 'Bitstamp'}, 'time': datetime.datetime(2021, 8, 31, 7, 58, 36, 925856), 'fields': {'eur_available': 1000.0, 'eth_available': 1.5, 'balance_total': 5253.61}}\n"
     ]
    }
   ],
   "metadata": {}
  },
  {
   "cell_type": "code",
   "execution_count": 22,
   "source": [
    "data = simple_strategy.apply(dummy_connector)"
   ],
   "outputs": [
    {
     "output_type": "stream",
     "name": "stdout",
     "text": [
      "influx_client <influxdb.client.InfluxDBClient object at 0x7f1a3c3056d0>\n",
      "type(result_points[idx]) <class 'dict'>\n",
      "live_trades 1254\n",
      "influx_client <influxdb.client.InfluxDBClient object at 0x7f1a3c48cb10>\n",
      "type(result_points[idx]) <class 'dict'>\n",
      "current eth-eur-value: 2832.89\n",
      "query_str SELECT * FROM simulator_transactions order by time desc limit 1\n",
      "out-trade\n"
     ]
    }
   ],
   "metadata": {}
  },
  {
   "cell_type": "code",
   "execution_count": 1,
   "source": [
    "data.tail(31)"
   ],
   "outputs": [
    {
     "output_type": "error",
     "ename": "NameError",
     "evalue": "name 'data' is not defined",
     "traceback": [
      "\u001b[0;31m---------------------------------------------------------------------------\u001b[0m",
      "\u001b[0;31mNameError\u001b[0m                                 Traceback (most recent call last)",
      "\u001b[0;32m/tmp/ipykernel_210/2801593430.py\u001b[0m in \u001b[0;36m<module>\u001b[0;34m\u001b[0m\n\u001b[0;32m----> 1\u001b[0;31m \u001b[0mdata\u001b[0m\u001b[0;34m.\u001b[0m\u001b[0mtail\u001b[0m\u001b[0;34m(\u001b[0m\u001b[0;36m31\u001b[0m\u001b[0;34m)\u001b[0m\u001b[0;34m\u001b[0m\u001b[0;34m\u001b[0m\u001b[0m\n\u001b[0m",
      "\u001b[0;31mNameError\u001b[0m: name 'data' is not defined"
     ]
    }
   ],
   "metadata": {}
  },
  {
   "cell_type": "code",
   "execution_count": null,
   "source": [
    "data.loc[data.index >\"2021-08-27 20:50\"]"
   ],
   "outputs": [],
   "metadata": {}
  },
  {
   "cell_type": "code",
   "execution_count": null,
   "source": [
    "data.tail()"
   ],
   "outputs": [],
   "metadata": {}
  },
  {
   "cell_type": "code",
   "execution_count": null,
   "source": [
    "data[:-1]"
   ],
   "outputs": [],
   "metadata": {}
  },
  {
   "cell_type": "code",
   "execution_count": null,
   "source": [
    "last_records= data[-2:]"
   ],
   "outputs": [],
   "metadata": {}
  },
  {
   "cell_type": "code",
   "execution_count": null,
   "source": [
    "len(last_records.loc[last_records['engulfing']])>0"
   ],
   "outputs": [],
   "metadata": {}
  },
  {
   "cell_type": "code",
   "execution_count": 5,
   "source": [
    "from connectors import DummyConnector, BitstampConnector\n",
    "dummy_connector = DummyConnector()\n",
    "bitstamp_connector = BitstampConnector()\n",
    "current_dummy_balance = dummy_connector.get_balance()\n",
    "current_bitstamp_balance = bitstamp_connector.get_balance()"
   ],
   "outputs": [
    {
     "output_type": "stream",
     "name": "stdout",
     "text": [
      "influx_client <influxdb.client.InfluxDBClient object at 0x7fd218c2e310>\n",
      "type(result_points[idx]) <class 'dict'>\n",
      "influx_connector InfluxConnector(client=<influxdb.client.InfluxDBClient object at 0x7fd218ae6610>)\n",
      "account_balance.to_influx() {'measurement': 'simulator_account_balance', 'tags': {'pair': 'ETH-EUR', 'exchange': 'Bitstamp'}, 'time': datetime.datetime(2021, 8, 29, 20, 32, 30, 288162), 'fields': {'eur_available': 503.5, 'eth_available': 0.0, 'balance_total': 503.5}}\n",
      "influx_client <influxdb.client.InfluxDBClient object at 0x7fd2189b9890>\n",
      "type(result_points[idx]) <class 'dict'>\n",
      "influx_connector InfluxConnector(client=<influxdb.client.InfluxDBClient object at 0x7fd219f93a90>)\n",
      "account_balance.to_influx() {'measurement': 'bitstamp_account_balance', 'tags': {'pair': 'ETH-EUR', 'exchange': 'Bitstamp'}, 'time': datetime.datetime(2021, 8, 29, 20, 32, 30, 560265), 'fields': {'eur_available': 0.85, 'eth_available': 2.14, 'balance_total': 5882.26}}\n"
     ]
    }
   ],
   "metadata": {}
  },
  {
   "cell_type": "code",
   "execution_count": 6,
   "source": [
    "dummy_connector.tradeable_eth()"
   ],
   "outputs": [
    {
     "output_type": "stream",
     "name": "stdout",
     "text": [
      "self.eth_reserve 1.5\n"
     ]
    },
    {
     "output_type": "execute_result",
     "data": {
      "text/plain": [
       "-1.5"
      ]
     },
     "metadata": {},
     "execution_count": 6
    }
   ],
   "metadata": {}
  },
  {
   "cell_type": "code",
   "execution_count": 7,
   "source": [
    "bitstamp_connector.tradeable_eth()"
   ],
   "outputs": [
    {
     "output_type": "stream",
     "name": "stdout",
     "text": [
      "self.eth_reserve 1.5\n"
     ]
    },
    {
     "output_type": "execute_result",
     "data": {
      "text/plain": [
       "0.6446775800000002"
      ]
     },
     "metadata": {},
     "execution_count": 7
    }
   ],
   "metadata": {}
  },
  {
   "cell_type": "code",
   "execution_count": 7,
   "source": [
    "current_bitstamp_balance.eur_available"
   ],
   "outputs": [
    {
     "output_type": "execute_result",
     "data": {
      "text/plain": [
       "0.85"
      ]
     },
     "metadata": {},
     "execution_count": 7
    }
   ],
   "metadata": {}
  },
  {
   "cell_type": "code",
   "execution_count": 12,
   "source": [
    "from api.api import get_current_eth_eur_value\n",
    "current_eth_eur_value = getattr(get_current_eth_eur_value(),'price')"
   ],
   "outputs": [
    {
     "output_type": "stream",
     "name": "stdout",
     "text": [
      "influx_client <influxdb.client.InfluxDBClient object at 0x7fd21893e410>\n",
      "type(result_points[idx]) <class 'dict'>\n"
     ]
    }
   ],
   "metadata": {}
  },
  {
   "cell_type": "code",
   "execution_count": 13,
   "source": [
    "current_eth_eur_value"
   ],
   "outputs": [
    {
     "output_type": "execute_result",
     "data": {
      "text/plain": [
       "2744.46"
      ]
     },
     "metadata": {},
     "execution_count": 13
    }
   ],
   "metadata": {}
  },
  {
   "cell_type": "code",
   "execution_count": 23,
   "source": [
    "last_records= data[-2:]"
   ],
   "outputs": [
    {
     "output_type": "error",
     "ename": "NameError",
     "evalue": "name 'data' is not defined",
     "traceback": [
      "\u001b[0;31m---------------------------------------------------------------------------\u001b[0m",
      "\u001b[0;31mNameError\u001b[0m                                 Traceback (most recent call last)",
      "\u001b[0;32m/tmp/ipykernel_14794/1117677270.py\u001b[0m in \u001b[0;36m<module>\u001b[0;34m\u001b[0m\n\u001b[0;32m----> 1\u001b[0;31m \u001b[0mlast_records\u001b[0m\u001b[0;34m=\u001b[0m \u001b[0mdata\u001b[0m\u001b[0;34m[\u001b[0m\u001b[0;34m-\u001b[0m\u001b[0;36m2\u001b[0m\u001b[0;34m:\u001b[0m\u001b[0;34m]\u001b[0m\u001b[0;34m\u001b[0m\u001b[0;34m\u001b[0m\u001b[0m\n\u001b[0m",
      "\u001b[0;31mNameError\u001b[0m: name 'data' is not defined"
     ]
    }
   ],
   "metadata": {}
  },
  {
   "cell_type": "code",
   "execution_count": null,
   "source": [],
   "outputs": [],
   "metadata": {}
  },
  {
   "cell_type": "code",
   "execution_count": 4,
   "source": [
    "last_records = data[-2:-1]\n",
    "last_relevant_record = data[-2:-1]\n",
    "predecessor_record = data[-3:-2]"
   ],
   "outputs": [],
   "metadata": {}
  },
  {
   "cell_type": "code",
   "execution_count": 17,
   "source": [
    "length_predecessor_candle = abs(predecessor_record['open'].values[0]-predecessor_record['close'].values[0])"
   ],
   "outputs": [],
   "metadata": {}
  },
  {
   "cell_type": "code",
   "execution_count": 20,
   "source": [
    "last_relevant_record = data[-2:-1].values\n",
    "last_relevant_record"
   ],
   "outputs": [
    {
     "output_type": "error",
     "ename": "IndexError",
     "evalue": "only integers, slices (`:`), ellipsis (`...`), numpy.newaxis (`None`) and integer or boolean arrays are valid indices",
     "traceback": [
      "\u001b[0;31m---------------------------------------------------------------------------\u001b[0m",
      "\u001b[0;31mIndexError\u001b[0m                                Traceback (most recent call last)",
      "\u001b[0;32m/tmp/ipykernel_17381/1892907227.py\u001b[0m in \u001b[0;36m<module>\u001b[0;34m\u001b[0m\n\u001b[1;32m      1\u001b[0m \u001b[0mlast_relevant_record\u001b[0m \u001b[0;34m=\u001b[0m \u001b[0mdata\u001b[0m\u001b[0;34m[\u001b[0m\u001b[0;34m-\u001b[0m\u001b[0;36m2\u001b[0m\u001b[0;34m:\u001b[0m\u001b[0;34m-\u001b[0m\u001b[0;36m1\u001b[0m\u001b[0;34m]\u001b[0m\u001b[0;34m.\u001b[0m\u001b[0mvalues\u001b[0m\u001b[0;34m\u001b[0m\u001b[0;34m\u001b[0m\u001b[0m\n\u001b[0;32m----> 2\u001b[0;31m \u001b[0mlast_relevant_record\u001b[0m\u001b[0;34m[\u001b[0m\u001b[0;34m'close'\u001b[0m\u001b[0;34m]\u001b[0m\u001b[0;34m\u001b[0m\u001b[0;34m\u001b[0m\u001b[0m\n\u001b[0m",
      "\u001b[0;31mIndexError\u001b[0m: only integers, slices (`:`), ellipsis (`...`), numpy.newaxis (`None`) and integer or boolean arrays are valid indices"
     ]
    }
   ],
   "metadata": {}
  },
  {
   "cell_type": "code",
   "execution_count": 16,
   "source": [
    "0.2*length_predecessor_candle"
   ],
   "outputs": [
    {
     "output_type": "execute_result",
     "data": {
      "text/plain": [
       "timestamp_utc\n",
       "2021-08-30 23:55:00+00:00    0.414\n",
       "Name: close, dtype: float64"
      ]
     },
     "metadata": {},
     "execution_count": 16
    }
   ],
   "metadata": {}
  },
  {
   "cell_type": "code",
   "execution_count": 18,
   "source": [
    "if ( last_relevant_record['close'].values[0]< predecessor_record['open'].values[0] + 0.2*length_predecessor_candle):\n",
    "    print('true')\n",
    "else:\n",
    "    print(\"false\")"
   ],
   "outputs": [
    {
     "output_type": "stream",
     "name": "stdout",
     "text": [
      "true\n"
     ]
    }
   ],
   "metadata": {}
  },
  {
   "cell_type": "code",
   "execution_count": 9,
   "source": [
    "print(\"last buying price\",5, \"current_eth_eur_value\",6)"
   ],
   "outputs": [
    {
     "output_type": "stream",
     "name": "stdout",
     "text": [
      "last buying price 5 current_eth_eur_value 6\n"
     ]
    }
   ],
   "metadata": {}
  },
  {
   "cell_type": "code",
   "execution_count": 1,
   "source": [
    "# Initial account-balance\n",
    "from models import InfluxConnector, AccountBalance\n",
    "from datetime import datetime\n",
    "\n",
    "influx_connector = InfluxConnector()\n",
    "client = influx_connector.client\n",
    "\n",
    "current_account_balance = AccountBalance(timestamp_utc=datetime.utcnow(), pair=\"ETH-EUR\", exchange=\"Bitstamp\", eth_available=1.5, eur_available=1000, balance_total=5247.65)\n",
    "influx_connector.write_point(current_account_balance.to_influx(connector=\"simulator\"))"
   ],
   "outputs": [],
   "metadata": {}
  },
  {
   "cell_type": "code",
   "execution_count": 6,
   "source": [
    "import pandas as pd\n",
    "import numpy as np\n",
    "df = pd.DataFrame(np.random.randn(10,3),columns=['A','B','C'])\n",
    "df = df.set_index('A')"
   ],
   "outputs": [],
   "metadata": {}
  },
  {
   "cell_type": "code",
   "execution_count": 12,
   "source": [
    "df.loc[df['B'] > 0.390563]"
   ],
   "outputs": [
    {
     "output_type": "execute_result",
     "data": {
      "text/plain": [
       "                 B         C\n",
       "A                           \n",
       "-1.416954  0.96938 -1.013256\n",
       "-1.423276  0.95893 -0.148584"
      ],
      "text/html": [
       "<div>\n",
       "<style scoped>\n",
       "    .dataframe tbody tr th:only-of-type {\n",
       "        vertical-align: middle;\n",
       "    }\n",
       "\n",
       "    .dataframe tbody tr th {\n",
       "        vertical-align: top;\n",
       "    }\n",
       "\n",
       "    .dataframe thead th {\n",
       "        text-align: right;\n",
       "    }\n",
       "</style>\n",
       "<table border=\"1\" class=\"dataframe\">\n",
       "  <thead>\n",
       "    <tr style=\"text-align: right;\">\n",
       "      <th></th>\n",
       "      <th>B</th>\n",
       "      <th>C</th>\n",
       "    </tr>\n",
       "    <tr>\n",
       "      <th>A</th>\n",
       "      <th></th>\n",
       "      <th></th>\n",
       "    </tr>\n",
       "  </thead>\n",
       "  <tbody>\n",
       "    <tr>\n",
       "      <th>-1.416954</th>\n",
       "      <td>0.96938</td>\n",
       "      <td>-1.013256</td>\n",
       "    </tr>\n",
       "    <tr>\n",
       "      <th>-1.423276</th>\n",
       "      <td>0.95893</td>\n",
       "      <td>-0.148584</td>\n",
       "    </tr>\n",
       "  </tbody>\n",
       "</table>\n",
       "</div>"
      ]
     },
     "metadata": {},
     "execution_count": 12
    }
   ],
   "metadata": {}
  },
  {
   "cell_type": "code",
   "execution_count": 17,
   "source": [
    "max(df.loc[df['B'] > 0.390563].idxmax())"
   ],
   "outputs": [
    {
     "output_type": "execute_result",
     "data": {
      "text/plain": [
       "-1.4169540763379864"
      ]
     },
     "metadata": {},
     "execution_count": 17
    }
   ],
   "metadata": {}
  },
  {
   "cell_type": "code",
   "execution_count": null,
   "source": [],
   "outputs": [],
   "metadata": {}
  }
 ],
 "metadata": {
  "interpreter": {
   "hash": "4d4ded5e29dd4fc758154d78d2103b991c08d50753e23f853f9c59cfa387079a"
  },
  "kernelspec": {
   "name": "python3",
   "display_name": "Python 3.7.5 64-bit ('robobee-cWPIRZRy': pipenv)"
  },
  "language_info": {
   "codemirror_mode": {
    "name": "ipython",
    "version": 3
   },
   "file_extension": ".py",
   "mimetype": "text/x-python",
   "name": "python",
   "nbconvert_exporter": "python",
   "pygments_lexer": "ipython3",
   "version": "3.7.5"
  }
 },
 "nbformat": 4,
 "nbformat_minor": 5
}