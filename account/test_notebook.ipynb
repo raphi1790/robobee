{
 "cells": [
  {
   "cell_type": "code",
   "execution_count": 5,
   "source": [
    "import sys\n",
    "from helper import *\n",
    "from datetime import datetime, timedelta\n",
    "from indicators import SslChannel, ExponentialMovingAverage\n",
    "from strategies import SslChannelEmaStrategy\n",
    "import mplfinance as mpf"
   ],
   "outputs": [],
   "metadata": {}
  },
  {
   "cell_type": "code",
   "execution_count": 2,
   "source": [
    "ssl_channel_ema_strategy = SslChannelEmaStrategy()"
   ],
   "outputs": [],
   "metadata": {}
  },
  {
   "cell_type": "code",
   "execution_count": 6,
   "source": [
    "candlestick_5m, candlestick_1h = ssl_channel_ema_strategy.calculate_current_trend()"
   ],
   "outputs": [
    {
     "output_type": "stream",
     "name": "stdout",
     "text": [
      "type(result_points[idx]) <class 'dict'>\n"
     ]
    }
   ],
   "metadata": {}
  },
  {
   "cell_type": "code",
   "execution_count": null,
   "source": [
    "ssl_channel = SslChannel()\n",
    "ema = ExponentialMovingAverage()"
   ],
   "outputs": [],
   "metadata": {}
  },
  {
   "cell_type": "code",
   "execution_count": null,
   "source": [
    "candlestick_df_ssl = ssl_channel.apply_indicator(candlestick_df)\n",
    "candlestick_df_ssl_ema = ema.apply_indicator(candlestick_df_ssl)"
   ],
   "outputs": [],
   "metadata": {}
  },
  {
   "cell_type": "code",
   "execution_count": null,
   "source": [
    "candlestick_df_ssl_ema.tail()"
   ],
   "outputs": [],
   "metadata": {}
  },
  {
   "cell_type": "code",
   "execution_count": null,
   "source": [
    "# Plots\n",
    "apds = [\n",
    "    mpf.make_addplot(candlestick_df_ssl_ema[['ssl_channel_ssl_down']], color='violet'),\n",
    "    mpf.make_addplot(candlestick_df_ssl_ema[['ssl_channel_ssl_up']], color='blue'),\n",
    "    mpf.make_addplot(candlestick_df_ssl_ema[['ema_10']], color='orange'),\n",
    "    mpf.make_addplot(candlestick_df_ssl_ema[['ssl_channel_trend']])\n",
    "]\n",
    "\n",
    "\n",
    "mpf.plot(candlestick_df_ssl_ema, type='candle', style='charles', addplot=apds)"
   ],
   "outputs": [],
   "metadata": {}
  },
  {
   "cell_type": "code",
   "execution_count": null,
   "source": [],
   "outputs": [],
   "metadata": {}
  }
 ],
 "metadata": {
  "interpreter": {
   "hash": "4d4ded5e29dd4fc758154d78d2103b991c08d50753e23f853f9c59cfa387079a"
  },
  "kernelspec": {
   "name": "python3",
   "display_name": "Python 3.7.5 64-bit ('robobee-cWPIRZRy': pipenv)"
  },
  "language_info": {
   "codemirror_mode": {
    "name": "ipython",
    "version": 3
   },
   "file_extension": ".py",
   "mimetype": "text/x-python",
   "name": "python",
   "nbconvert_exporter": "python",
   "pygments_lexer": "ipython3",
   "version": "3.7.5"
  }
 },
 "nbformat": 4,
 "nbformat_minor": 5
}