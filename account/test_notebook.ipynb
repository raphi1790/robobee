{
 "cells": [
  {
   "cell_type": "code",
   "execution_count": null,
   "source": [
    "import sys\n",
    "from helper import *\n",
    "from datetime import datetime, timedelta\n",
    "from indicators import SslChannel, ExponentialMovingAverage\n",
    "from strategies import SslChannelEmaStrategy\n",
    "import mplfinance as mpf\n",
    "from api.api import *"
   ],
   "outputs": [],
   "metadata": {}
  },
  {
   "cell_type": "code",
   "execution_count": null,
   "source": [
    "ssl_channel_ema_strategy = SslChannelEmaStrategy()"
   ],
   "outputs": [],
   "metadata": {}
  },
  {
   "cell_type": "code",
   "execution_count": null,
   "source": [
    "candlestick_5m, candlestick_1h = ssl_channel_ema_strategy.calculate_current_trend()"
   ],
   "outputs": [],
   "metadata": {}
  },
  {
   "cell_type": "code",
   "execution_count": null,
   "source": [
    "ssl_channel = SslChannel()\n",
    "ema = ExponentialMovingAverage()"
   ],
   "outputs": [],
   "metadata": {}
  },
  {
   "cell_type": "code",
   "execution_count": null,
   "source": [
    "candlestick_df_ssl = ssl_channel.apply_indicator(candlestick_5m)\n",
    "candlestick_df_ssl_ema = ema.apply_indicator(candlestick_df_ssl)"
   ],
   "outputs": [],
   "metadata": {}
  },
  {
   "cell_type": "code",
   "execution_count": null,
   "source": [
    "candlestick_df_ssl_ema.tail()"
   ],
   "outputs": [],
   "metadata": {}
  },
  {
   "cell_type": "code",
   "execution_count": null,
   "source": [
    "# Plots\n",
    "apds = [\n",
    "    mpf.make_addplot(candlestick_df_ssl_ema[['ssl_channel_ssl_down']], color='violet'),\n",
    "    mpf.make_addplot(candlestick_df_ssl_ema[['ssl_channel_ssl_up']], color='blue'),\n",
    "    mpf.make_addplot(candlestick_df_ssl_ema[['ema_10']], color='orange'),\n",
    "    mpf.make_addplot(candlestick_df_ssl_ema[['ssl_channel_trend']])\n",
    "]\n",
    "\n",
    "\n",
    "mpf.plot(candlestick_df_ssl_ema, type='candle', style='charles', addplot=apds)"
   ],
   "outputs": [],
   "metadata": {}
  },
  {
   "cell_type": "code",
   "execution_count": null,
   "source": [
    "from connectors import BitstampConnector,DummyConnector"
   ],
   "outputs": [],
   "metadata": {}
  },
  {
   "cell_type": "code",
   "execution_count": null,
   "source": [
    "bitstamp_connector = BitstampConnector()\n",
    "dummy_connector =DummyConnector()"
   ],
   "outputs": [],
   "metadata": {}
  },
  {
   "cell_type": "code",
   "execution_count": null,
   "source": [
    "bitstamp_connector.get_balance()"
   ],
   "outputs": [],
   "metadata": {}
  },
  {
   "cell_type": "code",
   "execution_count": null,
   "source": [
    "dummy_connector.get_balance()"
   ],
   "outputs": [],
   "metadata": {}
  },
  {
   "cell_type": "code",
   "execution_count": null,
   "source": [
    "dummy_connector.buy_eth(0.03, 1000)"
   ],
   "outputs": [],
   "metadata": {}
  },
  {
   "cell_type": "code",
   "execution_count": null,
   "source": [
    "dummy_connector.get_balance()"
   ],
   "outputs": [],
   "metadata": {}
  },
  {
   "cell_type": "code",
   "execution_count": null,
   "source": [
    "dummy_connector.sell_eth(0.05, 1000)\n",
    "dummy_connector.get_balance()"
   ],
   "outputs": [],
   "metadata": {}
  },
  {
   "cell_type": "code",
   "execution_count": null,
   "source": [
    "bitstamp_connector.buy_eth(0.05, 1000)"
   ],
   "outputs": [],
   "metadata": {}
  },
  {
   "cell_type": "code",
   "execution_count": null,
   "source": [],
   "outputs": [],
   "metadata": {}
  },
  {
   "cell_type": "code",
   "execution_count": null,
   "source": [
    "bitstamp_connector.sell_eth(0.04, 10000)"
   ],
   "outputs": [],
   "metadata": {}
  },
  {
   "cell_type": "code",
   "execution_count": null,
   "source": [
    "# Initial account-balance\n",
    "from models import InfluxConnector, AccountBalance\n",
    "from datetime import datetime\n",
    "\n",
    "influx_connector = InfluxConnector()\n",
    "client = influx_connector.client\n",
    "\n",
    "current_account_balance = AccountBalance(timestamp_utc=datetime.utcnow(), pair=\"ETH-EUR\", exchange=\"Bitstamp\", eth_available=0, eur_available=500, balance_total=500)\n",
    "influx_connector.write_point(current_account_balance.to_influx(connector=\"simulator\"))\n"
   ],
   "outputs": [],
   "metadata": {}
  },
  {
   "cell_type": "code",
   "execution_count": null,
   "source": [
    "from connectors import BitstampConnector,DummyConnector\n",
    "\n",
    "dummy_connector = DummyConnector()\n",
    "current_balance = dummy_connector.get_balance()\n",
    "\n",
    "print(\"current_balance.eur_available\",current_balance.eur_available)\n"
   ],
   "outputs": [],
   "metadata": {}
  },
  {
   "cell_type": "code",
   "execution_count": null,
   "source": [
    "dummy_connector.buy_eth(0.05,1000)"
   ],
   "outputs": [],
   "metadata": {}
  },
  {
   "cell_type": "code",
   "execution_count": null,
   "source": [
    "dummy_connector.sell_eth(0.03,1050)"
   ],
   "outputs": [],
   "metadata": {}
  },
  {
   "cell_type": "code",
   "execution_count": null,
   "source": [
    "dummy_connector.sell_eth(0.02,1100)"
   ],
   "outputs": [],
   "metadata": {}
  },
  {
   "cell_type": "code",
   "execution_count": null,
   "source": [
    "from connectors import DummyConnector\n",
    "from strategies import SimpleStrategy\n",
    "\n",
    "dummy_connector = DummyConnector()\n",
    "simple_strategy = SimpleStrategy()\n"
   ],
   "outputs": [],
   "metadata": {}
  },
  {
   "cell_type": "code",
   "execution_count": null,
   "source": [
    "from api.api import get_eth_eur_values\n",
    "from helper import create_candlesticks\n",
    "import mplfinance as mpf\n",
    "live_trades= get_eth_eur_values(from_dt_str=\"now()-4d\")\n",
    "candlestick_5m = create_candlesticks(live_trades)"
   ],
   "outputs": [],
   "metadata": {}
  },
  {
   "cell_type": "code",
   "execution_count": null,
   "source": [
    "candlestick_5m.tail()"
   ],
   "outputs": [],
   "metadata": {}
  },
  {
   "cell_type": "code",
   "execution_count": null,
   "source": [
    "candlestick_5m= candlestick_5m.set_index('timestamp_utc')"
   ],
   "outputs": [],
   "metadata": {}
  },
  {
   "cell_type": "code",
   "execution_count": null,
   "source": [
    "mpf.plot(candlestick_5m, type='candle', style='charles')"
   ],
   "outputs": [],
   "metadata": {}
  },
  {
   "cell_type": "code",
   "execution_count": null,
   "source": [
    "import talib\n"
   ],
   "outputs": [],
   "metadata": {}
  },
  {
   "cell_type": "code",
   "execution_count": null,
   "source": [
    "candle_names = talib.get_function_groups()['Pattern Recognition']"
   ],
   "outputs": [],
   "metadata": {}
  },
  {
   "cell_type": "code",
   "execution_count": null,
   "source": [
    "candlestick_5m['engulfing'] = talib.CDLENGULFING(candlestick_5m['open'],candlestick_5m['high'], candlestick_5m['low'], candlestick_5m['close'])"
   ],
   "outputs": [],
   "metadata": {}
  },
  {
   "cell_type": "code",
   "execution_count": null,
   "source": [
    "candlestick_5m.loc[candlestick_5m.engulfing>0]"
   ],
   "outputs": [],
   "metadata": {}
  },
  {
   "cell_type": "code",
   "execution_count": null,
   "source": [
    "#candlestick_5m.tail(50)"
   ],
   "outputs": [],
   "metadata": {}
  },
  {
   "cell_type": "code",
   "execution_count": null,
   "source": [
    "candlestick_5m['ema_10'] = talib.EMA( candlestick_5m['close'],10)\n",
    "candlestick_5m['ema_20'] = talib.EMA( candlestick_5m['close'],20)"
   ],
   "outputs": [],
   "metadata": {}
  },
  {
   "cell_type": "code",
   "execution_count": null,
   "source": [
    "candlestick_5m.tail(50)"
   ],
   "outputs": [],
   "metadata": {}
  },
  {
   "cell_type": "code",
   "execution_count": null,
   "source": [
    "# Plots\n",
    "apds = [\n",
    "    mpf.make_addplot(candlestick_5m[['ema_10']], color='violet'),\n",
    "    mpf.make_addplot(candlestick_5m[['ema_20']], color='orange'),\n",
    "]\n",
    "mpf.plot(candlestick_5m, type='candle', style='charles', addplot=apds)"
   ],
   "outputs": [],
   "metadata": {}
  },
  {
   "cell_type": "code",
   "execution_count": null,
   "source": [
    "from connectors import BitstampConnector,DummyConnector\n",
    "\n",
    "dummy_connector = DummyConnector()\n",
    "current_balance = dummy_connector.get_last_transaction(type='sell')\n",
    "print(\"current_balance.amount\",current_balance.amount)\n",
    "\n",
    "bitstamp_connector = BitstampConnector()\n",
    "last_transaction= dummy_connector.get_last_transaction()\n",
    "if last_transaction.id is None:\n",
    "    print(\"empty transactions\")\n",
    "else:\n",
    "    print(\"last_transaction.id\",last_transaction.id)"
   ],
   "outputs": [],
   "metadata": {}
  },
  {
   "cell_type": "code",
   "execution_count": 21,
   "source": [
    "from connectors import DummyConnector\n",
    "from strategies import SimpleStrategy\n",
    "\n",
    "dummy_connector = DummyConnector()\n",
    "simple_strategy = SimpleStrategy()"
   ],
   "outputs": [
    {
     "output_type": "stream",
     "name": "stdout",
     "text": [
      "influx_client <influxdb.client.InfluxDBClient object at 0x7f1a3c388650>\n",
      "type(result_points[idx]) <class 'dict'>\n",
      "influx_connector InfluxConnector(client=<influxdb.client.InfluxDBClient object at 0x7f1a3c305f10>)\n",
      "account_balance.to_influx() {'measurement': 'simulator_account_balance', 'tags': {'pair': 'ETH-EUR', 'exchange': 'Bitstamp'}, 'time': datetime.datetime(2021, 8, 31, 7, 58, 36, 925856), 'fields': {'eur_available': 1000.0, 'eth_available': 1.5, 'balance_total': 5253.61}}\n"
     ]
    }
   ],
   "metadata": {}
  },
  {
   "cell_type": "code",
   "execution_count": 22,
   "source": [
    "data = simple_strategy.apply(dummy_connector)"
   ],
   "outputs": [
    {
     "output_type": "stream",
     "name": "stdout",
     "text": [
      "influx_client <influxdb.client.InfluxDBClient object at 0x7f1a3c3056d0>\n",
      "type(result_points[idx]) <class 'dict'>\n",
      "live_trades 1254\n",
      "influx_client <influxdb.client.InfluxDBClient object at 0x7f1a3c48cb10>\n",
      "type(result_points[idx]) <class 'dict'>\n",
      "current eth-eur-value: 2832.89\n",
      "query_str SELECT * FROM simulator_transactions order by time desc limit 1\n",
      "out-trade\n"
     ]
    }
   ],
   "metadata": {}
  },
  {
   "cell_type": "code",
   "execution_count": 23,
   "source": [
    "data.tail(31)"
   ],
   "outputs": [
    {
     "output_type": "execute_result",
     "data": {
      "text/plain": [
       "                               low     high     open    close  engulfing  \\\n",
       "timestamp_utc                                                              \n",
       "2021-08-30 23:35:00+00:00  2743.00  2752.42  2746.95  2752.42          0   \n",
       "2021-08-30 23:40:00+00:00  2741.42  2758.82  2758.82  2741.42       -100   \n",
       "2021-08-30 23:45:00+00:00  2725.00  2738.00  2738.00  2732.86          0   \n",
       "2021-08-30 23:50:00+00:00  2731.35  2744.95  2731.35  2744.95        100   \n",
       "2021-08-30 23:55:00+00:00  2731.53  2736.23  2736.23  2734.16          0   \n",
       "2021-08-31 00:00:00+00:00  2733.37  2740.72  2737.61  2733.37          0   \n",
       "2021-08-31 05:55:00+00:00  2737.41  2741.07  2737.41  2739.54          0   \n",
       "2021-08-31 06:00:00+00:00  2740.73  2745.46  2742.39  2745.46          0   \n",
       "2021-08-31 06:05:00+00:00  2743.65  2748.96  2743.65  2748.96          0   \n",
       "2021-08-31 06:10:00+00:00  2738.30  2745.38  2745.38  2738.30          0   \n",
       "2021-08-31 06:15:00+00:00  2730.73  2740.75  2738.88  2730.73          0   \n",
       "2021-08-31 06:20:00+00:00  2726.70  2732.59  2730.52  2726.70          0   \n",
       "2021-08-31 06:25:00+00:00  2730.85  2734.44  2730.85  2732.95          0   \n",
       "2021-08-31 06:30:00+00:00  2733.69  2738.05  2733.69  2734.34          0   \n",
       "2021-08-31 06:35:00+00:00  2730.00  2738.46  2738.46  2730.00       -100   \n",
       "2021-08-31 06:40:00+00:00  2730.84  2735.56  2730.84  2735.56          0   \n",
       "2021-08-31 06:45:00+00:00  2730.74  2734.32  2732.68  2733.21          0   \n",
       "2021-08-31 06:50:00+00:00  2731.31  2738.86  2731.31  2735.27          0   \n",
       "2021-08-31 06:55:00+00:00  2730.82  2736.26  2734.39  2736.26          0   \n",
       "2021-08-31 07:00:00+00:00  2721.99  2732.16  2732.16  2721.99          0   \n",
       "2021-08-31 07:05:00+00:00  2727.01  2736.48  2727.01  2736.48          0   \n",
       "2021-08-31 07:10:00+00:00  2739.75  2755.23  2740.14  2755.23          0   \n",
       "2021-08-31 07:15:00+00:00  2748.18  2757.24  2753.60  2754.28          0   \n",
       "2021-08-31 07:20:00+00:00  2751.77  2772.58  2754.14  2771.66          0   \n",
       "2021-08-31 07:25:00+00:00  2772.32  2792.11  2772.32  2790.66          0   \n",
       "2021-08-31 07:30:00+00:00  2792.23  2800.00  2792.45  2800.00          0   \n",
       "2021-08-31 07:35:00+00:00  2801.77  2814.08  2803.88  2813.98          0   \n",
       "2021-08-31 07:40:00+00:00  2815.88  2834.87  2815.88  2833.43          0   \n",
       "2021-08-31 07:45:00+00:00  2830.43  2840.00  2830.43  2838.08          0   \n",
       "2021-08-31 07:50:00+00:00  2831.98  2848.57  2831.98  2840.47          0   \n",
       "2021-08-31 07:55:00+00:00  2832.42  2837.71  2837.71  2832.89          0   \n",
       "\n",
       "                                ema_10       ema_20  \n",
       "timestamp_utc                                        \n",
       "2021-08-30 23:35:00+00:00  2766.865380  2779.596925  \n",
       "2021-08-30 23:40:00+00:00  2762.238947  2775.961027  \n",
       "2021-08-30 23:45:00+00:00  2756.897321  2771.856168  \n",
       "2021-08-30 23:50:00+00:00  2754.725080  2769.293675  \n",
       "2021-08-30 23:55:00+00:00  2750.985975  2765.947611  \n",
       "2021-08-31 00:00:00+00:00  2747.783070  2762.844981  \n",
       "2021-08-31 05:55:00+00:00  2746.284330  2760.625459  \n",
       "2021-08-31 06:00:00+00:00  2746.134452  2759.181130  \n",
       "2021-08-31 06:05:00+00:00  2746.648188  2758.207689  \n",
       "2021-08-31 06:10:00+00:00  2745.130336  2756.311719  \n",
       "2021-08-31 06:15:00+00:00  2742.512093  2753.875364  \n",
       "2021-08-31 06:20:00+00:00  2739.637167  2751.287235  \n",
       "2021-08-31 06:25:00+00:00  2738.421318  2749.540831  \n",
       "2021-08-31 06:30:00+00:00  2737.679260  2748.093133  \n",
       "2021-08-31 06:35:00+00:00  2736.283031  2746.369977  \n",
       "2021-08-31 06:40:00+00:00  2736.151571  2745.340456  \n",
       "2021-08-31 06:45:00+00:00  2735.616740  2744.185174  \n",
       "2021-08-31 06:50:00+00:00  2735.553696  2743.336110  \n",
       "2021-08-31 06:55:00+00:00  2735.682115  2742.662195  \n",
       "2021-08-31 07:00:00+00:00  2733.192640  2740.693414  \n",
       "2021-08-31 07:05:00+00:00  2733.790342  2740.292137  \n",
       "2021-08-31 07:10:00+00:00  2737.688461  2741.714790  \n",
       "2021-08-31 07:15:00+00:00  2740.705105  2742.911477  \n",
       "2021-08-31 07:20:00+00:00  2746.333267  2745.649432  \n",
       "2021-08-31 07:25:00+00:00  2754.392673  2749.936152  \n",
       "2021-08-31 07:30:00+00:00  2762.684915  2754.704138  \n",
       "2021-08-31 07:35:00+00:00  2772.011294  2760.349458  \n",
       "2021-08-31 07:40:00+00:00  2783.178331  2767.309510  \n",
       "2021-08-31 07:45:00+00:00  2793.160453  2774.049556  \n",
       "2021-08-31 07:50:00+00:00  2801.762189  2780.375313  \n",
       "2021-08-31 07:55:00+00:00  2807.421791  2785.376712  "
      ],
      "text/html": [
       "<div>\n",
       "<style scoped>\n",
       "    .dataframe tbody tr th:only-of-type {\n",
       "        vertical-align: middle;\n",
       "    }\n",
       "\n",
       "    .dataframe tbody tr th {\n",
       "        vertical-align: top;\n",
       "    }\n",
       "\n",
       "    .dataframe thead th {\n",
       "        text-align: right;\n",
       "    }\n",
       "</style>\n",
       "<table border=\"1\" class=\"dataframe\">\n",
       "  <thead>\n",
       "    <tr style=\"text-align: right;\">\n",
       "      <th></th>\n",
       "      <th>low</th>\n",
       "      <th>high</th>\n",
       "      <th>open</th>\n",
       "      <th>close</th>\n",
       "      <th>engulfing</th>\n",
       "      <th>ema_10</th>\n",
       "      <th>ema_20</th>\n",
       "    </tr>\n",
       "    <tr>\n",
       "      <th>timestamp_utc</th>\n",
       "      <th></th>\n",
       "      <th></th>\n",
       "      <th></th>\n",
       "      <th></th>\n",
       "      <th></th>\n",
       "      <th></th>\n",
       "      <th></th>\n",
       "    </tr>\n",
       "  </thead>\n",
       "  <tbody>\n",
       "    <tr>\n",
       "      <th>2021-08-30 23:35:00+00:00</th>\n",
       "      <td>2743.00</td>\n",
       "      <td>2752.42</td>\n",
       "      <td>2746.95</td>\n",
       "      <td>2752.42</td>\n",
       "      <td>0</td>\n",
       "      <td>2766.865380</td>\n",
       "      <td>2779.596925</td>\n",
       "    </tr>\n",
       "    <tr>\n",
       "      <th>2021-08-30 23:40:00+00:00</th>\n",
       "      <td>2741.42</td>\n",
       "      <td>2758.82</td>\n",
       "      <td>2758.82</td>\n",
       "      <td>2741.42</td>\n",
       "      <td>-100</td>\n",
       "      <td>2762.238947</td>\n",
       "      <td>2775.961027</td>\n",
       "    </tr>\n",
       "    <tr>\n",
       "      <th>2021-08-30 23:45:00+00:00</th>\n",
       "      <td>2725.00</td>\n",
       "      <td>2738.00</td>\n",
       "      <td>2738.00</td>\n",
       "      <td>2732.86</td>\n",
       "      <td>0</td>\n",
       "      <td>2756.897321</td>\n",
       "      <td>2771.856168</td>\n",
       "    </tr>\n",
       "    <tr>\n",
       "      <th>2021-08-30 23:50:00+00:00</th>\n",
       "      <td>2731.35</td>\n",
       "      <td>2744.95</td>\n",
       "      <td>2731.35</td>\n",
       "      <td>2744.95</td>\n",
       "      <td>100</td>\n",
       "      <td>2754.725080</td>\n",
       "      <td>2769.293675</td>\n",
       "    </tr>\n",
       "    <tr>\n",
       "      <th>2021-08-30 23:55:00+00:00</th>\n",
       "      <td>2731.53</td>\n",
       "      <td>2736.23</td>\n",
       "      <td>2736.23</td>\n",
       "      <td>2734.16</td>\n",
       "      <td>0</td>\n",
       "      <td>2750.985975</td>\n",
       "      <td>2765.947611</td>\n",
       "    </tr>\n",
       "    <tr>\n",
       "      <th>2021-08-31 00:00:00+00:00</th>\n",
       "      <td>2733.37</td>\n",
       "      <td>2740.72</td>\n",
       "      <td>2737.61</td>\n",
       "      <td>2733.37</td>\n",
       "      <td>0</td>\n",
       "      <td>2747.783070</td>\n",
       "      <td>2762.844981</td>\n",
       "    </tr>\n",
       "    <tr>\n",
       "      <th>2021-08-31 05:55:00+00:00</th>\n",
       "      <td>2737.41</td>\n",
       "      <td>2741.07</td>\n",
       "      <td>2737.41</td>\n",
       "      <td>2739.54</td>\n",
       "      <td>0</td>\n",
       "      <td>2746.284330</td>\n",
       "      <td>2760.625459</td>\n",
       "    </tr>\n",
       "    <tr>\n",
       "      <th>2021-08-31 06:00:00+00:00</th>\n",
       "      <td>2740.73</td>\n",
       "      <td>2745.46</td>\n",
       "      <td>2742.39</td>\n",
       "      <td>2745.46</td>\n",
       "      <td>0</td>\n",
       "      <td>2746.134452</td>\n",
       "      <td>2759.181130</td>\n",
       "    </tr>\n",
       "    <tr>\n",
       "      <th>2021-08-31 06:05:00+00:00</th>\n",
       "      <td>2743.65</td>\n",
       "      <td>2748.96</td>\n",
       "      <td>2743.65</td>\n",
       "      <td>2748.96</td>\n",
       "      <td>0</td>\n",
       "      <td>2746.648188</td>\n",
       "      <td>2758.207689</td>\n",
       "    </tr>\n",
       "    <tr>\n",
       "      <th>2021-08-31 06:10:00+00:00</th>\n",
       "      <td>2738.30</td>\n",
       "      <td>2745.38</td>\n",
       "      <td>2745.38</td>\n",
       "      <td>2738.30</td>\n",
       "      <td>0</td>\n",
       "      <td>2745.130336</td>\n",
       "      <td>2756.311719</td>\n",
       "    </tr>\n",
       "    <tr>\n",
       "      <th>2021-08-31 06:15:00+00:00</th>\n",
       "      <td>2730.73</td>\n",
       "      <td>2740.75</td>\n",
       "      <td>2738.88</td>\n",
       "      <td>2730.73</td>\n",
       "      <td>0</td>\n",
       "      <td>2742.512093</td>\n",
       "      <td>2753.875364</td>\n",
       "    </tr>\n",
       "    <tr>\n",
       "      <th>2021-08-31 06:20:00+00:00</th>\n",
       "      <td>2726.70</td>\n",
       "      <td>2732.59</td>\n",
       "      <td>2730.52</td>\n",
       "      <td>2726.70</td>\n",
       "      <td>0</td>\n",
       "      <td>2739.637167</td>\n",
       "      <td>2751.287235</td>\n",
       "    </tr>\n",
       "    <tr>\n",
       "      <th>2021-08-31 06:25:00+00:00</th>\n",
       "      <td>2730.85</td>\n",
       "      <td>2734.44</td>\n",
       "      <td>2730.85</td>\n",
       "      <td>2732.95</td>\n",
       "      <td>0</td>\n",
       "      <td>2738.421318</td>\n",
       "      <td>2749.540831</td>\n",
       "    </tr>\n",
       "    <tr>\n",
       "      <th>2021-08-31 06:30:00+00:00</th>\n",
       "      <td>2733.69</td>\n",
       "      <td>2738.05</td>\n",
       "      <td>2733.69</td>\n",
       "      <td>2734.34</td>\n",
       "      <td>0</td>\n",
       "      <td>2737.679260</td>\n",
       "      <td>2748.093133</td>\n",
       "    </tr>\n",
       "    <tr>\n",
       "      <th>2021-08-31 06:35:00+00:00</th>\n",
       "      <td>2730.00</td>\n",
       "      <td>2738.46</td>\n",
       "      <td>2738.46</td>\n",
       "      <td>2730.00</td>\n",
       "      <td>-100</td>\n",
       "      <td>2736.283031</td>\n",
       "      <td>2746.369977</td>\n",
       "    </tr>\n",
       "    <tr>\n",
       "      <th>2021-08-31 06:40:00+00:00</th>\n",
       "      <td>2730.84</td>\n",
       "      <td>2735.56</td>\n",
       "      <td>2730.84</td>\n",
       "      <td>2735.56</td>\n",
       "      <td>0</td>\n",
       "      <td>2736.151571</td>\n",
       "      <td>2745.340456</td>\n",
       "    </tr>\n",
       "    <tr>\n",
       "      <th>2021-08-31 06:45:00+00:00</th>\n",
       "      <td>2730.74</td>\n",
       "      <td>2734.32</td>\n",
       "      <td>2732.68</td>\n",
       "      <td>2733.21</td>\n",
       "      <td>0</td>\n",
       "      <td>2735.616740</td>\n",
       "      <td>2744.185174</td>\n",
       "    </tr>\n",
       "    <tr>\n",
       "      <th>2021-08-31 06:50:00+00:00</th>\n",
       "      <td>2731.31</td>\n",
       "      <td>2738.86</td>\n",
       "      <td>2731.31</td>\n",
       "      <td>2735.27</td>\n",
       "      <td>0</td>\n",
       "      <td>2735.553696</td>\n",
       "      <td>2743.336110</td>\n",
       "    </tr>\n",
       "    <tr>\n",
       "      <th>2021-08-31 06:55:00+00:00</th>\n",
       "      <td>2730.82</td>\n",
       "      <td>2736.26</td>\n",
       "      <td>2734.39</td>\n",
       "      <td>2736.26</td>\n",
       "      <td>0</td>\n",
       "      <td>2735.682115</td>\n",
       "      <td>2742.662195</td>\n",
       "    </tr>\n",
       "    <tr>\n",
       "      <th>2021-08-31 07:00:00+00:00</th>\n",
       "      <td>2721.99</td>\n",
       "      <td>2732.16</td>\n",
       "      <td>2732.16</td>\n",
       "      <td>2721.99</td>\n",
       "      <td>0</td>\n",
       "      <td>2733.192640</td>\n",
       "      <td>2740.693414</td>\n",
       "    </tr>\n",
       "    <tr>\n",
       "      <th>2021-08-31 07:05:00+00:00</th>\n",
       "      <td>2727.01</td>\n",
       "      <td>2736.48</td>\n",
       "      <td>2727.01</td>\n",
       "      <td>2736.48</td>\n",
       "      <td>0</td>\n",
       "      <td>2733.790342</td>\n",
       "      <td>2740.292137</td>\n",
       "    </tr>\n",
       "    <tr>\n",
       "      <th>2021-08-31 07:10:00+00:00</th>\n",
       "      <td>2739.75</td>\n",
       "      <td>2755.23</td>\n",
       "      <td>2740.14</td>\n",
       "      <td>2755.23</td>\n",
       "      <td>0</td>\n",
       "      <td>2737.688461</td>\n",
       "      <td>2741.714790</td>\n",
       "    </tr>\n",
       "    <tr>\n",
       "      <th>2021-08-31 07:15:00+00:00</th>\n",
       "      <td>2748.18</td>\n",
       "      <td>2757.24</td>\n",
       "      <td>2753.60</td>\n",
       "      <td>2754.28</td>\n",
       "      <td>0</td>\n",
       "      <td>2740.705105</td>\n",
       "      <td>2742.911477</td>\n",
       "    </tr>\n",
       "    <tr>\n",
       "      <th>2021-08-31 07:20:00+00:00</th>\n",
       "      <td>2751.77</td>\n",
       "      <td>2772.58</td>\n",
       "      <td>2754.14</td>\n",
       "      <td>2771.66</td>\n",
       "      <td>0</td>\n",
       "      <td>2746.333267</td>\n",
       "      <td>2745.649432</td>\n",
       "    </tr>\n",
       "    <tr>\n",
       "      <th>2021-08-31 07:25:00+00:00</th>\n",
       "      <td>2772.32</td>\n",
       "      <td>2792.11</td>\n",
       "      <td>2772.32</td>\n",
       "      <td>2790.66</td>\n",
       "      <td>0</td>\n",
       "      <td>2754.392673</td>\n",
       "      <td>2749.936152</td>\n",
       "    </tr>\n",
       "    <tr>\n",
       "      <th>2021-08-31 07:30:00+00:00</th>\n",
       "      <td>2792.23</td>\n",
       "      <td>2800.00</td>\n",
       "      <td>2792.45</td>\n",
       "      <td>2800.00</td>\n",
       "      <td>0</td>\n",
       "      <td>2762.684915</td>\n",
       "      <td>2754.704138</td>\n",
       "    </tr>\n",
       "    <tr>\n",
       "      <th>2021-08-31 07:35:00+00:00</th>\n",
       "      <td>2801.77</td>\n",
       "      <td>2814.08</td>\n",
       "      <td>2803.88</td>\n",
       "      <td>2813.98</td>\n",
       "      <td>0</td>\n",
       "      <td>2772.011294</td>\n",
       "      <td>2760.349458</td>\n",
       "    </tr>\n",
       "    <tr>\n",
       "      <th>2021-08-31 07:40:00+00:00</th>\n",
       "      <td>2815.88</td>\n",
       "      <td>2834.87</td>\n",
       "      <td>2815.88</td>\n",
       "      <td>2833.43</td>\n",
       "      <td>0</td>\n",
       "      <td>2783.178331</td>\n",
       "      <td>2767.309510</td>\n",
       "    </tr>\n",
       "    <tr>\n",
       "      <th>2021-08-31 07:45:00+00:00</th>\n",
       "      <td>2830.43</td>\n",
       "      <td>2840.00</td>\n",
       "      <td>2830.43</td>\n",
       "      <td>2838.08</td>\n",
       "      <td>0</td>\n",
       "      <td>2793.160453</td>\n",
       "      <td>2774.049556</td>\n",
       "    </tr>\n",
       "    <tr>\n",
       "      <th>2021-08-31 07:50:00+00:00</th>\n",
       "      <td>2831.98</td>\n",
       "      <td>2848.57</td>\n",
       "      <td>2831.98</td>\n",
       "      <td>2840.47</td>\n",
       "      <td>0</td>\n",
       "      <td>2801.762189</td>\n",
       "      <td>2780.375313</td>\n",
       "    </tr>\n",
       "    <tr>\n",
       "      <th>2021-08-31 07:55:00+00:00</th>\n",
       "      <td>2832.42</td>\n",
       "      <td>2837.71</td>\n",
       "      <td>2837.71</td>\n",
       "      <td>2832.89</td>\n",
       "      <td>0</td>\n",
       "      <td>2807.421791</td>\n",
       "      <td>2785.376712</td>\n",
       "    </tr>\n",
       "  </tbody>\n",
       "</table>\n",
       "</div>"
      ]
     },
     "metadata": {},
     "execution_count": 23
    }
   ],
   "metadata": {}
  },
  {
   "cell_type": "code",
   "execution_count": null,
   "source": [
    "data.loc[data.index >\"2021-08-27 20:50\"]"
   ],
   "outputs": [],
   "metadata": {}
  },
  {
   "cell_type": "code",
   "execution_count": null,
   "source": [
    "data.tail()"
   ],
   "outputs": [],
   "metadata": {}
  },
  {
   "cell_type": "code",
   "execution_count": null,
   "source": [
    "data[:-1]"
   ],
   "outputs": [],
   "metadata": {}
  },
  {
   "cell_type": "code",
   "execution_count": null,
   "source": [
    "last_records= data[-2:]"
   ],
   "outputs": [],
   "metadata": {}
  },
  {
   "cell_type": "code",
   "execution_count": null,
   "source": [
    "len(last_records.loc[last_records['engulfing']])>0"
   ],
   "outputs": [],
   "metadata": {}
  },
  {
   "cell_type": "code",
   "execution_count": 5,
   "source": [
    "from connectors import DummyConnector, BitstampConnector\n",
    "dummy_connector = DummyConnector()\n",
    "bitstamp_connector = BitstampConnector()\n",
    "current_dummy_balance = dummy_connector.get_balance()\n",
    "current_bitstamp_balance = bitstamp_connector.get_balance()"
   ],
   "outputs": [
    {
     "output_type": "stream",
     "name": "stdout",
     "text": [
      "influx_client <influxdb.client.InfluxDBClient object at 0x7fd218c2e310>\n",
      "type(result_points[idx]) <class 'dict'>\n",
      "influx_connector InfluxConnector(client=<influxdb.client.InfluxDBClient object at 0x7fd218ae6610>)\n",
      "account_balance.to_influx() {'measurement': 'simulator_account_balance', 'tags': {'pair': 'ETH-EUR', 'exchange': 'Bitstamp'}, 'time': datetime.datetime(2021, 8, 29, 20, 32, 30, 288162), 'fields': {'eur_available': 503.5, 'eth_available': 0.0, 'balance_total': 503.5}}\n",
      "influx_client <influxdb.client.InfluxDBClient object at 0x7fd2189b9890>\n",
      "type(result_points[idx]) <class 'dict'>\n",
      "influx_connector InfluxConnector(client=<influxdb.client.InfluxDBClient object at 0x7fd219f93a90>)\n",
      "account_balance.to_influx() {'measurement': 'bitstamp_account_balance', 'tags': {'pair': 'ETH-EUR', 'exchange': 'Bitstamp'}, 'time': datetime.datetime(2021, 8, 29, 20, 32, 30, 560265), 'fields': {'eur_available': 0.85, 'eth_available': 2.14, 'balance_total': 5882.26}}\n"
     ]
    }
   ],
   "metadata": {}
  },
  {
   "cell_type": "code",
   "execution_count": 6,
   "source": [
    "dummy_connector.tradeable_eth()"
   ],
   "outputs": [
    {
     "output_type": "stream",
     "name": "stdout",
     "text": [
      "self.eth_reserve 1.5\n"
     ]
    },
    {
     "output_type": "execute_result",
     "data": {
      "text/plain": [
       "-1.5"
      ]
     },
     "metadata": {},
     "execution_count": 6
    }
   ],
   "metadata": {}
  },
  {
   "cell_type": "code",
   "execution_count": 7,
   "source": [
    "bitstamp_connector.tradeable_eth()"
   ],
   "outputs": [
    {
     "output_type": "stream",
     "name": "stdout",
     "text": [
      "self.eth_reserve 1.5\n"
     ]
    },
    {
     "output_type": "execute_result",
     "data": {
      "text/plain": [
       "0.6446775800000002"
      ]
     },
     "metadata": {},
     "execution_count": 7
    }
   ],
   "metadata": {}
  },
  {
   "cell_type": "code",
   "execution_count": 7,
   "source": [
    "current_bitstamp_balance.eur_available"
   ],
   "outputs": [
    {
     "output_type": "execute_result",
     "data": {
      "text/plain": [
       "0.85"
      ]
     },
     "metadata": {},
     "execution_count": 7
    }
   ],
   "metadata": {}
  },
  {
   "cell_type": "code",
   "execution_count": 12,
   "source": [
    "from api.api import get_current_eth_eur_value\n",
    "current_eth_eur_value = getattr(get_current_eth_eur_value(),'price')"
   ],
   "outputs": [
    {
     "output_type": "stream",
     "name": "stdout",
     "text": [
      "influx_client <influxdb.client.InfluxDBClient object at 0x7fd21893e410>\n",
      "type(result_points[idx]) <class 'dict'>\n"
     ]
    }
   ],
   "metadata": {}
  },
  {
   "cell_type": "code",
   "execution_count": 13,
   "source": [
    "current_eth_eur_value"
   ],
   "outputs": [
    {
     "output_type": "execute_result",
     "data": {
      "text/plain": [
       "2744.46"
      ]
     },
     "metadata": {},
     "execution_count": 13
    }
   ],
   "metadata": {}
  },
  {
   "cell_type": "code",
   "execution_count": 23,
   "source": [
    "last_records= data[-2:]"
   ],
   "outputs": [
    {
     "output_type": "error",
     "ename": "NameError",
     "evalue": "name 'data' is not defined",
     "traceback": [
      "\u001b[0;31m---------------------------------------------------------------------------\u001b[0m",
      "\u001b[0;31mNameError\u001b[0m                                 Traceback (most recent call last)",
      "\u001b[0;32m/tmp/ipykernel_14794/1117677270.py\u001b[0m in \u001b[0;36m<module>\u001b[0;34m\u001b[0m\n\u001b[0;32m----> 1\u001b[0;31m \u001b[0mlast_records\u001b[0m\u001b[0;34m=\u001b[0m \u001b[0mdata\u001b[0m\u001b[0;34m[\u001b[0m\u001b[0;34m-\u001b[0m\u001b[0;36m2\u001b[0m\u001b[0;34m:\u001b[0m\u001b[0;34m]\u001b[0m\u001b[0;34m\u001b[0m\u001b[0;34m\u001b[0m\u001b[0m\n\u001b[0m",
      "\u001b[0;31mNameError\u001b[0m: name 'data' is not defined"
     ]
    }
   ],
   "metadata": {}
  },
  {
   "cell_type": "code",
   "execution_count": null,
   "source": [],
   "outputs": [],
   "metadata": {}
  },
  {
   "cell_type": "code",
   "execution_count": 4,
   "source": [
    "last_records = data[-2:-1]\n",
    "last_relevant_record = data[-2:-1]\n",
    "predecessor_record = data[-3:-2]"
   ],
   "outputs": [],
   "metadata": {}
  },
  {
   "cell_type": "code",
   "execution_count": 17,
   "source": [
    "length_predecessor_candle = abs(predecessor_record['open'].values[0]-predecessor_record['close'].values[0])"
   ],
   "outputs": [],
   "metadata": {}
  },
  {
   "cell_type": "code",
   "execution_count": 20,
   "source": [
    "last_relevant_record = data[-2:-1].values\n",
    "last_relevant_record"
   ],
   "outputs": [
    {
     "output_type": "error",
     "ename": "IndexError",
     "evalue": "only integers, slices (`:`), ellipsis (`...`), numpy.newaxis (`None`) and integer or boolean arrays are valid indices",
     "traceback": [
      "\u001b[0;31m---------------------------------------------------------------------------\u001b[0m",
      "\u001b[0;31mIndexError\u001b[0m                                Traceback (most recent call last)",
      "\u001b[0;32m/tmp/ipykernel_17381/1892907227.py\u001b[0m in \u001b[0;36m<module>\u001b[0;34m\u001b[0m\n\u001b[1;32m      1\u001b[0m \u001b[0mlast_relevant_record\u001b[0m \u001b[0;34m=\u001b[0m \u001b[0mdata\u001b[0m\u001b[0;34m[\u001b[0m\u001b[0;34m-\u001b[0m\u001b[0;36m2\u001b[0m\u001b[0;34m:\u001b[0m\u001b[0;34m-\u001b[0m\u001b[0;36m1\u001b[0m\u001b[0;34m]\u001b[0m\u001b[0;34m.\u001b[0m\u001b[0mvalues\u001b[0m\u001b[0;34m\u001b[0m\u001b[0;34m\u001b[0m\u001b[0m\n\u001b[0;32m----> 2\u001b[0;31m \u001b[0mlast_relevant_record\u001b[0m\u001b[0;34m[\u001b[0m\u001b[0;34m'close'\u001b[0m\u001b[0;34m]\u001b[0m\u001b[0;34m\u001b[0m\u001b[0;34m\u001b[0m\u001b[0m\n\u001b[0m",
      "\u001b[0;31mIndexError\u001b[0m: only integers, slices (`:`), ellipsis (`...`), numpy.newaxis (`None`) and integer or boolean arrays are valid indices"
     ]
    }
   ],
   "metadata": {}
  },
  {
   "cell_type": "code",
   "execution_count": 16,
   "source": [
    "0.2*length_predecessor_candle"
   ],
   "outputs": [
    {
     "output_type": "execute_result",
     "data": {
      "text/plain": [
       "timestamp_utc\n",
       "2021-08-30 23:55:00+00:00    0.414\n",
       "Name: close, dtype: float64"
      ]
     },
     "metadata": {},
     "execution_count": 16
    }
   ],
   "metadata": {}
  },
  {
   "cell_type": "code",
   "execution_count": 18,
   "source": [
    "if ( last_relevant_record['close'].values[0]< predecessor_record['open'].values[0] + 0.2*length_predecessor_candle):\n",
    "    print('true')\n",
    "else:\n",
    "    print(\"false\")"
   ],
   "outputs": [
    {
     "output_type": "stream",
     "name": "stdout",
     "text": [
      "true\n"
     ]
    }
   ],
   "metadata": {}
  },
  {
   "cell_type": "code",
   "execution_count": 9,
   "source": [
    "print(\"last buying price\",5, \"current_eth_eur_value\",6)"
   ],
   "outputs": [
    {
     "output_type": "stream",
     "name": "stdout",
     "text": [
      "last buying price 5 current_eth_eur_value 6\n"
     ]
    }
   ],
   "metadata": {}
  },
  {
   "cell_type": "code",
   "execution_count": 1,
   "source": [
    "# Initial account-balance\n",
    "from models import InfluxConnector, AccountBalance\n",
    "from datetime import datetime\n",
    "\n",
    "influx_connector = InfluxConnector()\n",
    "client = influx_connector.client\n",
    "\n",
    "current_account_balance = AccountBalance(timestamp_utc=datetime.utcnow(), pair=\"ETH-EUR\", exchange=\"Bitstamp\", eth_available=1.5, eur_available=1000, balance_total=5247.65)\n",
    "influx_connector.write_point(current_account_balance.to_influx(connector=\"simulator\"))"
   ],
   "outputs": [],
   "metadata": {}
  },
  {
   "cell_type": "code",
   "execution_count": null,
   "source": [],
   "outputs": [],
   "metadata": {}
  }
 ],
 "metadata": {
  "interpreter": {
   "hash": "4d4ded5e29dd4fc758154d78d2103b991c08d50753e23f853f9c59cfa387079a"
  },
  "kernelspec": {
   "name": "python3",
   "display_name": "Python 3.7.5 64-bit ('robobee-cWPIRZRy': pipenv)"
  },
  "language_info": {
   "codemirror_mode": {
    "name": "ipython",
    "version": 3
   },
   "file_extension": ".py",
   "mimetype": "text/x-python",
   "name": "python",
   "nbconvert_exporter": "python",
   "pygments_lexer": "ipython3",
   "version": "3.7.5"
  }
 },
 "nbformat": 4,
 "nbformat_minor": 5
}