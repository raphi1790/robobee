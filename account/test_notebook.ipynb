{
 "cells": [
  {
   "cell_type": "code",
   "execution_count": null,
   "source": [],
   "outputs": [],
   "metadata": {}
  },
  {
   "cell_type": "code",
   "execution_count": null,
   "source": [],
   "outputs": [],
   "metadata": {}
  },
  {
   "cell_type": "code",
   "execution_count": null,
   "source": [
    "import sys\n",
    "from helper import *\n",
    "from datetime import datetime, timedelta\n",
    "from indicators import SslChannel, ExponentialMovingAverage\n",
    "from strategies import SslChannelEmaStrategy\n",
    "import mplfinance as mpf\n",
    "from api.api import *"
   ],
   "outputs": [],
   "metadata": {}
  },
  {
   "cell_type": "code",
   "execution_count": null,
   "source": [
    "ssl_channel_ema_strategy = SslChannelEmaStrategy()"
   ],
   "outputs": [],
   "metadata": {}
  },
  {
   "cell_type": "code",
   "execution_count": null,
   "source": [
    "candlestick_5m, candlestick_1h = ssl_channel_ema_strategy.calculate_current_trend()"
   ],
   "outputs": [],
   "metadata": {}
  },
  {
   "cell_type": "code",
   "execution_count": null,
   "source": [
    "ssl_channel = SslChannel()\n",
    "ema = ExponentialMovingAverage()"
   ],
   "outputs": [],
   "metadata": {}
  },
  {
   "cell_type": "code",
   "execution_count": null,
   "source": [
    "candlestick_df_ssl = ssl_channel.apply_indicator(candlestick_5m)\n",
    "candlestick_df_ssl_ema = ema.apply_indicator(candlestick_df_ssl)"
   ],
   "outputs": [],
   "metadata": {}
  },
  {
   "cell_type": "code",
   "execution_count": null,
   "source": [
    "candlestick_df_ssl_ema.tail()"
   ],
   "outputs": [],
   "metadata": {}
  },
  {
   "cell_type": "code",
   "execution_count": null,
   "source": [
    "# Plots\n",
    "apds = [\n",
    "    mpf.make_addplot(candlestick_df_ssl_ema[['ssl_channel_ssl_down']], color='violet'),\n",
    "    mpf.make_addplot(candlestick_df_ssl_ema[['ssl_channel_ssl_up']], color='blue'),\n",
    "    mpf.make_addplot(candlestick_df_ssl_ema[['ema_10']], color='orange'),\n",
    "    mpf.make_addplot(candlestick_df_ssl_ema[['ssl_channel_trend']])\n",
    "]\n",
    "\n",
    "\n",
    "mpf.plot(candlestick_df_ssl_ema, type='candle', style='charles', addplot=apds)"
   ],
   "outputs": [],
   "metadata": {}
  },
  {
   "cell_type": "code",
   "execution_count": null,
   "source": [
    "from connectors import BitstampConnector,DummyConnector"
   ],
   "outputs": [],
   "metadata": {}
  },
  {
   "cell_type": "code",
   "execution_count": null,
   "source": [
    "bitstamp_connector = BitstampConnector()\n",
    "dummy_connector =DummyConnector()"
   ],
   "outputs": [],
   "metadata": {}
  },
  {
   "cell_type": "code",
   "execution_count": null,
   "source": [
    "bitstamp_connector.get_balance()"
   ],
   "outputs": [],
   "metadata": {}
  },
  {
   "cell_type": "code",
   "execution_count": null,
   "source": [
    "dummy_connector.get_balance()"
   ],
   "outputs": [],
   "metadata": {}
  },
  {
   "cell_type": "code",
   "execution_count": null,
   "source": [
    "dummy_connector.buy_eth(0.03, 1000)"
   ],
   "outputs": [],
   "metadata": {}
  },
  {
   "cell_type": "code",
   "execution_count": null,
   "source": [
    "dummy_connector.get_balance()"
   ],
   "outputs": [],
   "metadata": {}
  },
  {
   "cell_type": "code",
   "execution_count": null,
   "source": [
    "dummy_connector.sell_eth(0.05, 1000)\n",
    "dummy_connector.get_balance()"
   ],
   "outputs": [],
   "metadata": {}
  },
  {
   "cell_type": "code",
   "execution_count": null,
   "source": [
    "bitstamp_connector.buy_eth(0.05, 1000)"
   ],
   "outputs": [],
   "metadata": {}
  },
  {
   "cell_type": "code",
   "execution_count": null,
   "source": [],
   "outputs": [],
   "metadata": {}
  },
  {
   "cell_type": "code",
   "execution_count": null,
   "source": [
    "bitstamp_connector.sell_eth(0.04, 10000)"
   ],
   "outputs": [],
   "metadata": {}
  },
  {
   "cell_type": "code",
   "execution_count": null,
   "source": [
    "# Initial account-balance\n",
    "from models import InfluxConnector, AccountBalance\n",
    "from datetime import datetime\n",
    "\n",
    "influx_connector = InfluxConnector()\n",
    "client = influx_connector.client\n",
    "\n",
    "current_account_balance = AccountBalance(timestamp_utc=datetime.utcnow(), pair=\"ETH-EUR\", exchange=\"Bitstamp\", eth_available=0, eur_available=500, balance_total=500)\n",
    "influx_connector.write_point(current_account_balance.to_influx(connector=\"simulator\"))\n"
   ],
   "outputs": [],
   "metadata": {}
  },
  {
   "cell_type": "code",
   "execution_count": null,
   "source": [
    "from connectors import BitstampConnector,DummyConnector\n",
    "\n",
    "dummy_connector = DummyConnector()\n",
    "current_balance = dummy_connector.get_balance()\n",
    "\n",
    "print(\"current_balance.eur_available\",current_balance.eur_available)\n"
   ],
   "outputs": [],
   "metadata": {}
  },
  {
   "cell_type": "code",
   "execution_count": null,
   "source": [
    "dummy_connector.buy_eth(0.05,1000)"
   ],
   "outputs": [],
   "metadata": {}
  },
  {
   "cell_type": "code",
   "execution_count": null,
   "source": [
    "dummy_connector.sell_eth(0.03,1050)"
   ],
   "outputs": [],
   "metadata": {}
  },
  {
   "cell_type": "code",
   "execution_count": null,
   "source": [
    "dummy_connector.sell_eth(0.02,1100)"
   ],
   "outputs": [],
   "metadata": {}
  },
  {
   "cell_type": "code",
   "execution_count": null,
   "source": [
    "from connectors import DummyConnector\n",
    "from strategies import SimpleStrategy\n",
    "\n",
    "dummy_connector = DummyConnector()\n",
    "simple_strategy = SimpleStrategy()\n"
   ],
   "outputs": [],
   "metadata": {}
  },
  {
   "cell_type": "code",
   "execution_count": null,
   "source": [
    "from api.api import get_eth_eur_values\n",
    "from helper import create_candlesticks\n",
    "import mplfinance as mpf\n",
    "live_trades= get_eth_eur_values(from_dt_str=\"now()-4d\")\n",
    "candlestick_5m = create_candlesticks(live_trades)"
   ],
   "outputs": [],
   "metadata": {}
  },
  {
   "cell_type": "code",
   "execution_count": null,
   "source": [
    "candlestick_5m.tail()"
   ],
   "outputs": [],
   "metadata": {}
  },
  {
   "cell_type": "code",
   "execution_count": null,
   "source": [
    "candlestick_5m= candlestick_5m.set_index('timestamp_utc')"
   ],
   "outputs": [],
   "metadata": {}
  },
  {
   "cell_type": "code",
   "execution_count": null,
   "source": [
    "mpf.plot(candlestick_5m, type='candle', style='charles')"
   ],
   "outputs": [],
   "metadata": {}
  },
  {
   "cell_type": "code",
   "execution_count": null,
   "source": [
    "import talib\n"
   ],
   "outputs": [],
   "metadata": {}
  },
  {
   "cell_type": "code",
   "execution_count": null,
   "source": [
    "candle_names = talib.get_function_groups()['Pattern Recognition']"
   ],
   "outputs": [],
   "metadata": {}
  },
  {
   "cell_type": "code",
   "execution_count": null,
   "source": [
    "candlestick_5m['engulfing'] = talib.CDLENGULFING(candlestick_5m['open'],candlestick_5m['high'], candlestick_5m['low'], candlestick_5m['close'])"
   ],
   "outputs": [],
   "metadata": {}
  },
  {
   "cell_type": "code",
   "execution_count": null,
   "source": [
    "candlestick_5m.loc[candlestick_5m.engulfing>0]"
   ],
   "outputs": [],
   "metadata": {}
  },
  {
   "cell_type": "code",
   "execution_count": null,
   "source": [
    "#candlestick_5m.tail(50)"
   ],
   "outputs": [],
   "metadata": {}
  },
  {
   "cell_type": "code",
   "execution_count": null,
   "source": [
    "candlestick_5m['ema_10'] = talib.EMA( candlestick_5m['close'],10)\n",
    "candlestick_5m['ema_20'] = talib.EMA( candlestick_5m['close'],20)"
   ],
   "outputs": [],
   "metadata": {}
  },
  {
   "cell_type": "code",
   "execution_count": null,
   "source": [
    "candlestick_5m.tail(50)"
   ],
   "outputs": [],
   "metadata": {}
  },
  {
   "cell_type": "code",
   "execution_count": null,
   "source": [
    "# Plots\n",
    "apds = [\n",
    "    mpf.make_addplot(candlestick_5m[['ema_10']], color='violet'),\n",
    "    mpf.make_addplot(candlestick_5m[['ema_20']], color='orange'),\n",
    "]\n",
    "mpf.plot(candlestick_5m, type='candle', style='charles', addplot=apds)"
   ],
   "outputs": [],
   "metadata": {}
  },
  {
   "cell_type": "code",
   "execution_count": null,
   "source": [
    "from connectors import BitstampConnector,DummyConnector\n",
    "\n",
    "dummy_connector = DummyConnector()\n",
    "current_balance = dummy_connector.get_last_transaction(type='sell')\n",
    "print(\"current_balance.amount\",current_balance.amount)\n",
    "\n",
    "bitstamp_connector = BitstampConnector()\n",
    "last_transaction= dummy_connector.get_last_transaction()\n",
    "if last_transaction.id is None:\n",
    "    print(\"empty transactions\")\n",
    "else:\n",
    "    print(\"last_transaction.id\",last_transaction.id)"
   ],
   "outputs": [],
   "metadata": {}
  },
  {
   "cell_type": "code",
   "execution_count": 21,
   "source": [
    "from connectors import DummyConnector\n",
    "from strategies import SimpleStrategy\n",
    "\n",
    "dummy_connector = DummyConnector()\n",
    "simple_strategy = SimpleStrategy()"
   ],
   "outputs": [
    {
     "output_type": "stream",
     "name": "stdout",
     "text": [
      "influx_client <influxdb.client.InfluxDBClient object at 0x7f1a3c388650>\n",
      "type(result_points[idx]) <class 'dict'>\n",
      "influx_connector InfluxConnector(client=<influxdb.client.InfluxDBClient object at 0x7f1a3c305f10>)\n",
      "account_balance.to_influx() {'measurement': 'simulator_account_balance', 'tags': {'pair': 'ETH-EUR', 'exchange': 'Bitstamp'}, 'time': datetime.datetime(2021, 8, 31, 7, 58, 36, 925856), 'fields': {'eur_available': 1000.0, 'eth_available': 1.5, 'balance_total': 5253.61}}\n"
     ]
    }
   ],
   "metadata": {}
  },
  {
   "cell_type": "code",
   "execution_count": 22,
   "source": [
    "data = simple_strategy.apply(dummy_connector)"
   ],
   "outputs": [
    {
     "output_type": "stream",
     "name": "stdout",
     "text": [
      "influx_client <influxdb.client.InfluxDBClient object at 0x7f1a3c3056d0>\n",
      "type(result_points[idx]) <class 'dict'>\n",
      "live_trades 1254\n",
      "influx_client <influxdb.client.InfluxDBClient object at 0x7f1a3c48cb10>\n",
      "type(result_points[idx]) <class 'dict'>\n",
      "current eth-eur-value: 2832.89\n",
      "query_str SELECT * FROM simulator_transactions order by time desc limit 1\n",
      "out-trade\n"
     ]
    }
   ],
   "metadata": {}
  },
  {
   "cell_type": "code",
   "execution_count": 1,
   "source": [
    "data.tail(31)"
   ],
   "outputs": [
    {
     "output_type": "error",
     "ename": "NameError",
     "evalue": "name 'data' is not defined",
     "traceback": [
      "\u001b[0;31m---------------------------------------------------------------------------\u001b[0m",
      "\u001b[0;31mNameError\u001b[0m                                 Traceback (most recent call last)",
      "\u001b[0;32m/tmp/ipykernel_210/2801593430.py\u001b[0m in \u001b[0;36m<module>\u001b[0;34m\u001b[0m\n\u001b[0;32m----> 1\u001b[0;31m \u001b[0mdata\u001b[0m\u001b[0;34m.\u001b[0m\u001b[0mtail\u001b[0m\u001b[0;34m(\u001b[0m\u001b[0;36m31\u001b[0m\u001b[0;34m)\u001b[0m\u001b[0;34m\u001b[0m\u001b[0;34m\u001b[0m\u001b[0m\n\u001b[0m",
      "\u001b[0;31mNameError\u001b[0m: name 'data' is not defined"
     ]
    }
   ],
   "metadata": {}
  },
  {
   "cell_type": "code",
   "execution_count": null,
   "source": [
    "data.loc[data.index >\"2021-08-27 20:50\"]"
   ],
   "outputs": [],
   "metadata": {}
  },
  {
   "cell_type": "code",
   "execution_count": null,
   "source": [
    "data.tail()"
   ],
   "outputs": [],
   "metadata": {}
  },
  {
   "cell_type": "code",
   "execution_count": null,
   "source": [
    "data[:-1]"
   ],
   "outputs": [],
   "metadata": {}
  },
  {
   "cell_type": "code",
   "execution_count": null,
   "source": [
    "last_records= data[-2:]"
   ],
   "outputs": [],
   "metadata": {}
  },
  {
   "cell_type": "code",
   "execution_count": null,
   "source": [
    "len(last_records.loc[last_records['engulfing']])>0"
   ],
   "outputs": [],
   "metadata": {}
  },
  {
   "cell_type": "code",
   "execution_count": 5,
   "source": [
    "from connectors import DummyConnector, BitstampConnector\n",
    "dummy_connector = DummyConnector()\n",
    "bitstamp_connector = BitstampConnector()\n",
    "current_dummy_balance = dummy_connector.get_balance()\n",
    "current_bitstamp_balance = bitstamp_connector.get_balance()"
   ],
   "outputs": [
    {
     "output_type": "stream",
     "name": "stdout",
     "text": [
      "influx_client <influxdb.client.InfluxDBClient object at 0x7fd218c2e310>\n",
      "type(result_points[idx]) <class 'dict'>\n",
      "influx_connector InfluxConnector(client=<influxdb.client.InfluxDBClient object at 0x7fd218ae6610>)\n",
      "account_balance.to_influx() {'measurement': 'simulator_account_balance', 'tags': {'pair': 'ETH-EUR', 'exchange': 'Bitstamp'}, 'time': datetime.datetime(2021, 8, 29, 20, 32, 30, 288162), 'fields': {'eur_available': 503.5, 'eth_available': 0.0, 'balance_total': 503.5}}\n",
      "influx_client <influxdb.client.InfluxDBClient object at 0x7fd2189b9890>\n",
      "type(result_points[idx]) <class 'dict'>\n",
      "influx_connector InfluxConnector(client=<influxdb.client.InfluxDBClient object at 0x7fd219f93a90>)\n",
      "account_balance.to_influx() {'measurement': 'bitstamp_account_balance', 'tags': {'pair': 'ETH-EUR', 'exchange': 'Bitstamp'}, 'time': datetime.datetime(2021, 8, 29, 20, 32, 30, 560265), 'fields': {'eur_available': 0.85, 'eth_available': 2.14, 'balance_total': 5882.26}}\n"
     ]
    }
   ],
   "metadata": {}
  },
  {
   "cell_type": "code",
   "execution_count": 6,
   "source": [
    "dummy_connector.tradeable_eth()"
   ],
   "outputs": [
    {
     "output_type": "stream",
     "name": "stdout",
     "text": [
      "self.eth_reserve 1.5\n"
     ]
    },
    {
     "output_type": "execute_result",
     "data": {
      "text/plain": [
       "-1.5"
      ]
     },
     "metadata": {},
     "execution_count": 6
    }
   ],
   "metadata": {}
  },
  {
   "cell_type": "code",
   "execution_count": 7,
   "source": [
    "bitstamp_connector.tradeable_eth()"
   ],
   "outputs": [
    {
     "output_type": "stream",
     "name": "stdout",
     "text": [
      "self.eth_reserve 1.5\n"
     ]
    },
    {
     "output_type": "execute_result",
     "data": {
      "text/plain": [
       "0.6446775800000002"
      ]
     },
     "metadata": {},
     "execution_count": 7
    }
   ],
   "metadata": {}
  },
  {
   "cell_type": "code",
   "execution_count": 7,
   "source": [
    "current_bitstamp_balance.eur_available"
   ],
   "outputs": [
    {
     "output_type": "execute_result",
     "data": {
      "text/plain": [
       "0.85"
      ]
     },
     "metadata": {},
     "execution_count": 7
    }
   ],
   "metadata": {}
  },
  {
   "cell_type": "code",
   "execution_count": 12,
   "source": [
    "from api.api import get_current_eth_eur_value\n",
    "current_eth_eur_value = getattr(get_current_eth_eur_value(),'price')"
   ],
   "outputs": [
    {
     "output_type": "stream",
     "name": "stdout",
     "text": [
      "influx_client <influxdb.client.InfluxDBClient object at 0x7fd21893e410>\n",
      "type(result_points[idx]) <class 'dict'>\n"
     ]
    }
   ],
   "metadata": {}
  },
  {
   "cell_type": "code",
   "execution_count": 13,
   "source": [
    "current_eth_eur_value"
   ],
   "outputs": [
    {
     "output_type": "execute_result",
     "data": {
      "text/plain": [
       "2744.46"
      ]
     },
     "metadata": {},
     "execution_count": 13
    }
   ],
   "metadata": {}
  },
  {
   "cell_type": "code",
   "execution_count": 23,
   "source": [
    "last_records= data[-2:]"
   ],
   "outputs": [
    {
     "output_type": "error",
     "ename": "NameError",
     "evalue": "name 'data' is not defined",
     "traceback": [
      "\u001b[0;31m---------------------------------------------------------------------------\u001b[0m",
      "\u001b[0;31mNameError\u001b[0m                                 Traceback (most recent call last)",
      "\u001b[0;32m/tmp/ipykernel_14794/1117677270.py\u001b[0m in \u001b[0;36m<module>\u001b[0;34m\u001b[0m\n\u001b[0;32m----> 1\u001b[0;31m \u001b[0mlast_records\u001b[0m\u001b[0;34m=\u001b[0m \u001b[0mdata\u001b[0m\u001b[0;34m[\u001b[0m\u001b[0;34m-\u001b[0m\u001b[0;36m2\u001b[0m\u001b[0;34m:\u001b[0m\u001b[0;34m]\u001b[0m\u001b[0;34m\u001b[0m\u001b[0;34m\u001b[0m\u001b[0m\n\u001b[0m",
      "\u001b[0;31mNameError\u001b[0m: name 'data' is not defined"
     ]
    }
   ],
   "metadata": {}
  },
  {
   "cell_type": "code",
   "execution_count": null,
   "source": [],
   "outputs": [],
   "metadata": {}
  },
  {
   "cell_type": "code",
   "execution_count": 4,
   "source": [
    "last_records = data[-2:-1]\n",
    "last_relevant_record = data[-2:-1]\n",
    "predecessor_record = data[-3:-2]"
   ],
   "outputs": [],
   "metadata": {}
  },
  {
   "cell_type": "code",
   "execution_count": 17,
   "source": [
    "length_predecessor_candle = abs(predecessor_record['open'].values[0]-predecessor_record['close'].values[0])"
   ],
   "outputs": [],
   "metadata": {}
  },
  {
   "cell_type": "code",
   "execution_count": 20,
   "source": [
    "last_relevant_record = data[-2:-1].values\n",
    "last_relevant_record"
   ],
   "outputs": [
    {
     "output_type": "error",
     "ename": "IndexError",
     "evalue": "only integers, slices (`:`), ellipsis (`...`), numpy.newaxis (`None`) and integer or boolean arrays are valid indices",
     "traceback": [
      "\u001b[0;31m---------------------------------------------------------------------------\u001b[0m",
      "\u001b[0;31mIndexError\u001b[0m                                Traceback (most recent call last)",
      "\u001b[0;32m/tmp/ipykernel_17381/1892907227.py\u001b[0m in \u001b[0;36m<module>\u001b[0;34m\u001b[0m\n\u001b[1;32m      1\u001b[0m \u001b[0mlast_relevant_record\u001b[0m \u001b[0;34m=\u001b[0m \u001b[0mdata\u001b[0m\u001b[0;34m[\u001b[0m\u001b[0;34m-\u001b[0m\u001b[0;36m2\u001b[0m\u001b[0;34m:\u001b[0m\u001b[0;34m-\u001b[0m\u001b[0;36m1\u001b[0m\u001b[0;34m]\u001b[0m\u001b[0;34m.\u001b[0m\u001b[0mvalues\u001b[0m\u001b[0;34m\u001b[0m\u001b[0;34m\u001b[0m\u001b[0m\n\u001b[0;32m----> 2\u001b[0;31m \u001b[0mlast_relevant_record\u001b[0m\u001b[0;34m[\u001b[0m\u001b[0;34m'close'\u001b[0m\u001b[0;34m]\u001b[0m\u001b[0;34m\u001b[0m\u001b[0;34m\u001b[0m\u001b[0m\n\u001b[0m",
      "\u001b[0;31mIndexError\u001b[0m: only integers, slices (`:`), ellipsis (`...`), numpy.newaxis (`None`) and integer or boolean arrays are valid indices"
     ]
    }
   ],
   "metadata": {}
  },
  {
   "cell_type": "code",
   "execution_count": 16,
   "source": [
    "0.2*length_predecessor_candle"
   ],
   "outputs": [
    {
     "output_type": "execute_result",
     "data": {
      "text/plain": [
       "timestamp_utc\n",
       "2021-08-30 23:55:00+00:00    0.414\n",
       "Name: close, dtype: float64"
      ]
     },
     "metadata": {},
     "execution_count": 16
    }
   ],
   "metadata": {}
  },
  {
   "cell_type": "code",
   "execution_count": 18,
   "source": [
    "if ( last_relevant_record['close'].values[0]< predecessor_record['open'].values[0] + 0.2*length_predecessor_candle):\n",
    "    print('true')\n",
    "else:\n",
    "    print(\"false\")"
   ],
   "outputs": [
    {
     "output_type": "stream",
     "name": "stdout",
     "text": [
      "true\n"
     ]
    }
   ],
   "metadata": {}
  },
  {
   "cell_type": "code",
   "execution_count": 9,
   "source": [
    "print(\"last buying price\",5, \"current_eth_eur_value\",6)"
   ],
   "outputs": [
    {
     "output_type": "stream",
     "name": "stdout",
     "text": [
      "last buying price 5 current_eth_eur_value 6\n"
     ]
    }
   ],
   "metadata": {}
  },
  {
   "cell_type": "code",
   "execution_count": 1,
   "source": [
    "# Initial account-balance\n",
    "from models import InfluxConnector, AccountBalance\n",
    "from datetime import datetime\n",
    "\n",
    "influx_connector = InfluxConnector()\n",
    "client = influx_connector.client\n",
    "\n",
    "current_account_balance = AccountBalance(timestamp_utc=datetime.utcnow(), pair=\"ETH-EUR\", exchange=\"Bitstamp\", eth_available=1.5, eur_available=1000, balance_total=5247.65)\n",
    "influx_connector.write_point(current_account_balance.to_influx(connector=\"simulator\"))"
   ],
   "outputs": [],
   "metadata": {}
  },
  {
   "cell_type": "code",
   "execution_count": 26,
   "source": [
    "import pandas as pd\n",
    "import numpy as np\n",
    "df = pd.DataFrame(np.random.randn(10,3),columns=['A','B','C'])\n",
    "df = df.set_index('A')"
   ],
   "outputs": [],
   "metadata": {}
  },
  {
   "cell_type": "code",
   "execution_count": 24,
   "source": [
    "df = df.reset_index()"
   ],
   "outputs": [],
   "metadata": {}
  },
  {
   "cell_type": "code",
   "execution_count": 17,
   "source": [
    "max(df.loc[df['B'] > 0.390563].idxmax())"
   ],
   "outputs": [
    {
     "output_type": "execute_result",
     "data": {
      "text/plain": [
       "-1.4169540763379864"
      ]
     },
     "metadata": {},
     "execution_count": 17
    }
   ],
   "metadata": {}
  },
  {
   "cell_type": "code",
   "execution_count": 8,
   "source": [
    "import os\n",
    "from binance.client import Client\n",
    "\n",
    "# init\n",
    "api_key = os.environ.get('BINANCE_API_KEY')\n",
    "api_secret = os.environ.get('BINANCE_API_SECRET')\n",
    "\n",
    "\n",
    "client = Client(api_key, api_secret)\n",
    "\n",
    "# testnet\n",
    "# client.API_URL = 'https://testnet.binance.vision/api'\n",
    "\n",
    "# actual\n",
    "# client.API_URL = 'https://api.binance.com/api'\n",
    "\n",
    "print(\"client.API_URL\", client.API_URL)\n",
    "# get balances for all assets & some account information\n",
    "# print(client.get_account())\n",
    "\n",
    "res = client.get_asset_balance(asset='EUR')\n",
    "print(res)\n"
   ],
   "outputs": [
    {
     "output_type": "stream",
     "name": "stdout",
     "text": [
      "client.API_URL https://api.binance.com/api\n",
      "{'asset': 'EUR', 'free': '1099.60187480', 'locked': '0.00000000'}\n"
     ]
    }
   ],
   "metadata": {}
  },
  {
   "cell_type": "code",
   "execution_count": 10,
   "source": [
    "float(res['free'])"
   ],
   "outputs": [
    {
     "output_type": "execute_result",
     "data": {
      "text/plain": [
       "1099.6018748"
      ]
     },
     "metadata": {},
     "execution_count": 10
    }
   ],
   "metadata": {}
  },
  {
   "cell_type": "code",
   "execution_count": 5,
   "source": [
    "print(client.get_account())"
   ],
   "outputs": [
    {
     "output_type": "stream",
     "name": "stdout",
     "text": [
      "{'makerCommission': 0, 'takerCommission': 0, 'buyerCommission': 0, 'sellerCommission': 0, 'canTrade': True, 'canWithdraw': False, 'canDeposit': False, 'updateTime': 1631133793811, 'accountType': 'SPOT', 'balances': [{'asset': 'BNB', 'free': '1000.00000000', 'locked': '0.00000000'}, {'asset': 'BTC', 'free': '1.00000000', 'locked': '0.00000000'}, {'asset': 'BUSD', 'free': '10000.00000000', 'locked': '0.00000000'}, {'asset': 'ETH', 'free': '100.00000000', 'locked': '0.00000000'}, {'asset': 'LTC', 'free': '500.00000000', 'locked': '0.00000000'}, {'asset': 'TRX', 'free': '500000.00000000', 'locked': '0.00000000'}, {'asset': 'USDT', 'free': '10000.00000000', 'locked': '0.00000000'}, {'asset': 'XRP', 'free': '50000.00000000', 'locked': '0.00000000'}], 'permissions': ['SPOT']}\n"
     ]
    }
   ],
   "metadata": {}
  },
  {
   "cell_type": "code",
   "execution_count": 10,
   "source": [
    "print(client.get_asset_balance(asset='ETH'))"
   ],
   "outputs": [
    {
     "output_type": "stream",
     "name": "stdout",
     "text": [
      "{'asset': 'ETH', 'free': '100.00000000', 'locked': '0.00000000'}\n"
     ]
    }
   ],
   "metadata": {}
  },
  {
   "cell_type": "code",
   "execution_count": 1,
   "source": [
    "api_key = os.environ.get('BINANCE_API_KEY')\n",
    "api_secret = os.environ.get('BINANCE_API_SECRET')\n",
    "\n",
    "client = Client(api_key, api_secret)\n",
    "res = client.get_asset_balance(asset='ETH')\n",
    "print(res)"
   ],
   "outputs": [
    {
     "output_type": "error",
     "ename": "NameError",
     "evalue": "name 'Client' is not defined",
     "traceback": [
      "\u001b[0;31m---------------------------------------------------------------------------\u001b[0m",
      "\u001b[0;31mNameError\u001b[0m                                 Traceback (most recent call last)",
      "\u001b[0;32m/tmp/ipykernel_342/371286733.py\u001b[0m in \u001b[0;36m<module>\u001b[0;34m\u001b[0m\n\u001b[1;32m      2\u001b[0m \u001b[0mapi_secret\u001b[0m \u001b[0;34m=\u001b[0m \u001b[0mos\u001b[0m\u001b[0;34m.\u001b[0m\u001b[0menviron\u001b[0m\u001b[0;34m.\u001b[0m\u001b[0mget\u001b[0m\u001b[0;34m(\u001b[0m\u001b[0;34m'BINANCE_API_SECRET'\u001b[0m\u001b[0;34m)\u001b[0m\u001b[0;34m\u001b[0m\u001b[0;34m\u001b[0m\u001b[0m\n\u001b[1;32m      3\u001b[0m \u001b[0;34m\u001b[0m\u001b[0m\n\u001b[0;32m----> 4\u001b[0;31m \u001b[0mclient\u001b[0m \u001b[0;34m=\u001b[0m \u001b[0mClient\u001b[0m\u001b[0;34m(\u001b[0m\u001b[0mapi_key\u001b[0m\u001b[0;34m,\u001b[0m \u001b[0mapi_secret\u001b[0m\u001b[0;34m)\u001b[0m\u001b[0;34m\u001b[0m\u001b[0;34m\u001b[0m\u001b[0m\n\u001b[0m\u001b[1;32m      5\u001b[0m \u001b[0mres\u001b[0m \u001b[0;34m=\u001b[0m \u001b[0mclient\u001b[0m\u001b[0;34m.\u001b[0m\u001b[0mget_asset_balance\u001b[0m\u001b[0;34m(\u001b[0m\u001b[0masset\u001b[0m\u001b[0;34m=\u001b[0m\u001b[0;34m'ETH'\u001b[0m\u001b[0;34m)\u001b[0m\u001b[0;34m\u001b[0m\u001b[0;34m\u001b[0m\u001b[0m\n\u001b[1;32m      6\u001b[0m \u001b[0mprint\u001b[0m\u001b[0;34m(\u001b[0m\u001b[0mres\u001b[0m\u001b[0;34m)\u001b[0m\u001b[0;34m\u001b[0m\u001b[0;34m\u001b[0m\u001b[0m\n",
      "\u001b[0;31mNameError\u001b[0m: name 'Client' is not defined"
     ]
    }
   ],
   "metadata": {}
  },
  {
   "cell_type": "code",
   "execution_count": 3,
   "source": [
    "from  datetime import datetime\n",
    "number = 1631564923\n",
    "print(datetime.fromtimestamp(int(number)))"
   ],
   "outputs": [
    {
     "output_type": "stream",
     "name": "stdout",
     "text": [
      "2021-09-13 22:28:43\n"
     ]
    }
   ],
   "metadata": {}
  },
  {
   "cell_type": "code",
   "execution_count": 9,
   "source": [
    "import operator\n",
    "from dataclasses import dataclass\n",
    "\n",
    "@dataclass\n",
    "class test:\n",
    "    a:int\n",
    "    b: int\n",
    "\n",
    "obj_a = test(a=1,b=2)\n",
    "obj_b = test(a=2,b=4)\n",
    "obj_c = test(a=3,b=5)\n",
    "\n",
    "lst = [\n",
    "obj_a, obj_b, obj_c\n",
    "]\n",
    "print(min(lst, key=operator.attrgetter('a')))"
   ],
   "outputs": [
    {
     "output_type": "stream",
     "name": "stdout",
     "text": [
      "test(a=1, b=2)\n"
     ]
    }
   ],
   "metadata": {}
  },
  {
   "cell_type": "code",
   "execution_count": 1,
   "source": [
    "from connectors import BinanceConnector\n",
    "\n",
    "binance_connector = BinanceConnector()\n",
    "binance_connector.get_balance()"
   ],
   "outputs": [
    {
     "output_type": "stream",
     "name": "stdout",
     "text": [
      "client <binance.client.Client object at 0x7f9157a93650>\n",
      "current_etheur_value 3042.55\n",
      "account_balance.to_influx() {'measurement': 'binance_account_balance', 'tags': {'pair': 'ETH-EUR', 'exchange': 'Binance'}, 'time': datetime.datetime(2021, 9, 16, 20, 6, 30, 977583), 'fields': {'eur_available': 1099.6, 'eth_available': 0.02, 'balance_total': 1163.42}}\n"
     ]
    },
    {
     "output_type": "execute_result",
     "data": {
      "text/plain": [
       "AccountBalance(timestamp_utc=datetime.datetime(2021, 9, 16, 20, 6, 30, 960811), pair='ETH-EUR', exchange='Binance', eth_available=0.02097649, eur_available=1099.6018748, balance_total=1163.4238944494998)"
      ]
     },
     "metadata": {},
     "execution_count": 1
    }
   ],
   "metadata": {}
  },
  {
   "cell_type": "code",
   "execution_count": 4,
   "source": [
    "import os\n",
    "from binance.client import Client\n",
    "from binance.enums import *\n",
    "\n",
    "# init\n",
    "api_key = os.environ.get('BINANCE_API_KEY')\n",
    "api_secret = os.environ.get('BINANCE_API_SECRET')\n",
    "\n",
    "\n",
    "client = Client(api_key, api_secret)\n",
    "\n",
    "# testnet\n",
    "# client.API_URL = 'https://testnet.binance.vision/api'\n",
    "\n",
    "# actual\n",
    "# client.API_URL = 'https://api.binance.com/api'\n",
    "\n",
    "print(\"client.API_URL\", client.API_URL)\n",
    "# get balances for all assets & some account information\n",
    "# print(client.get_account())\n",
    "\n",
    "res = client.get_asset_balance(asset='EUR')\n",
    "print(res)\n",
    "\n",
    "# order = client.order_limit_buy(\n",
    "#     symbol='ETHEUR',\n",
    "#     timeInForce='IOC',\n",
    "#     quantity=0.01,\n",
    "#     price=2500)\n",
    "\n",
    "# order = client.create_test_order(\n",
    "#     symbol='ETHEUR',\n",
    "#     side='BUY',\n",
    "#     type=ORDER_TYPE_LIMIT,\n",
    "#     timeInForce=TIME_IN_FORCE_GTC,\n",
    "#     quantity=0.01,\n",
    "#     price=2500)\n"
   ],
   "outputs": [
    {
     "output_type": "stream",
     "name": "stdout",
     "text": [
      "client.API_URL https://api.binance.com/api\n",
      "{'asset': 'EUR', 'free': '811.00387480', 'locked': '0.00000000'}\n"
     ]
    }
   ],
   "metadata": {}
  },
  {
   "cell_type": "code",
   "execution_count": 9,
   "source": [
    "order"
   ],
   "outputs": [
    {
     "output_type": "execute_result",
     "data": {
      "text/plain": [
       "{'symbol': 'ETHEUR',\n",
       " 'orderId': 961851527,\n",
       " 'orderListId': -1,\n",
       " 'clientOrderId': 'sQlu6VnSwgMBLzSfKcr0YG',\n",
       " 'transactTime': 1631912486215,\n",
       " 'price': '2500.00000000',\n",
       " 'origQty': '0.01000000',\n",
       " 'executedQty': '0.00000000',\n",
       " 'cummulativeQuoteQty': '0.00000000',\n",
       " 'status': 'EXPIRED',\n",
       " 'timeInForce': 'IOC',\n",
       " 'type': 'LIMIT',\n",
       " 'side': 'BUY',\n",
       " 'fills': []}"
      ]
     },
     "metadata": {},
     "execution_count": 9
    }
   ],
   "metadata": {}
  },
  {
   "cell_type": "code",
   "execution_count": 5,
   "source": [
    "orders = client.get_all_orders(symbol='ETHEUR')"
   ],
   "outputs": [],
   "metadata": {}
  },
  {
   "cell_type": "code",
   "execution_count": 8,
   "source": [
    "current_order = [x for x in orders if x['orderId'] == 961851527][0]"
   ],
   "outputs": [],
   "metadata": {}
  },
  {
   "cell_type": "code",
   "execution_count": 14,
   "source": [
    "from models import Transaction\n",
    "from datetime import datetime\n",
    "import pytz\n",
    "transaction = Transaction(timestamp_utc=datetime.fromtimestamp(current_order['time']/ 1000.0).astimezone(pytz.utc)\n",
    "                                                , exchange=\"Binance\", pair=\"ETH-EUR\", amount=float(current_order['executedQty'])\n",
    "                                                , price=float(current_order['price'])\n",
    "                                                ,id =str(current_order['orderId'])\n",
    "                                                ,type=\"buy\" )"
   ],
   "outputs": [],
   "metadata": {}
  },
  {
   "cell_type": "code",
   "execution_count": 13,
   "source": [
    "current_order['symbol']"
   ],
   "outputs": [
    {
     "output_type": "execute_result",
     "data": {
      "text/plain": [
       "'ETHEUR'"
      ]
     },
     "metadata": {},
     "execution_count": 13
    }
   ],
   "metadata": {}
  },
  {
   "cell_type": "code",
   "execution_count": 9,
   "source": [
    "current_order"
   ],
   "outputs": [
    {
     "output_type": "execute_result",
     "data": {
      "text/plain": [
       "{'symbol': 'ETHEUR',\n",
       " 'orderId': 961851527,\n",
       " 'orderListId': -1,\n",
       " 'clientOrderId': 'sQlu6VnSwgMBLzSfKcr0YG',\n",
       " 'price': '2500.00000000',\n",
       " 'origQty': '0.01000000',\n",
       " 'executedQty': '0.00000000',\n",
       " 'cummulativeQuoteQty': '0.00000000',\n",
       " 'status': 'EXPIRED',\n",
       " 'timeInForce': 'IOC',\n",
       " 'type': 'LIMIT',\n",
       " 'side': 'BUY',\n",
       " 'stopPrice': '0.00000000',\n",
       " 'icebergQty': '0.00000000',\n",
       " 'time': 1631912486215,\n",
       " 'updateTime': 1631912486215,\n",
       " 'isWorking': True,\n",
       " 'origQuoteOrderQty': '0.00000000'}"
      ]
     },
     "metadata": {},
     "execution_count": 9
    }
   ],
   "metadata": {}
  },
  {
   "cell_type": "code",
   "execution_count": 11,
   "source": [
    "orders"
   ],
   "outputs": [
    {
     "output_type": "execute_result",
     "data": {
      "text/plain": [
       "[{'symbol': 'ETHEUR',\n",
       "  'orderId': 954234039,\n",
       "  'orderListId': -1,\n",
       "  'clientOrderId': 'web_7c303d391aec4a258834eaab790aa0c6',\n",
       "  'price': '3009.10000000',\n",
       "  'origQty': '0.34000000',\n",
       "  'executedQty': '0.34000000',\n",
       "  'cummulativeQuoteQty': '1023.32520000',\n",
       "  'status': 'FILLED',\n",
       "  'timeInForce': 'GTC',\n",
       "  'type': 'LIMIT',\n",
       "  'side': 'SELL',\n",
       "  'stopPrice': '0.00000000',\n",
       "  'icebergQty': '0.00000000',\n",
       "  'time': 1631730503177,\n",
       "  'updateTime': 1631730503177,\n",
       "  'isWorking': True,\n",
       "  'origQuoteOrderQty': '0.00000000'},\n",
       " {'symbol': 'ETHEUR',\n",
       "  'orderId': 958064387,\n",
       "  'orderListId': -1,\n",
       "  'clientOrderId': 'QNdzIw36rSvvipjyZ6vRuQ',\n",
       "  'price': '2900.00000000',\n",
       "  'origQty': '0.01000000',\n",
       "  'executedQty': '0.00000000',\n",
       "  'cummulativeQuoteQty': '0.00000000',\n",
       "  'status': 'CANCELED',\n",
       "  'timeInForce': 'GTC',\n",
       "  'type': 'LIMIT',\n",
       "  'side': 'BUY',\n",
       "  'stopPrice': '0.00000000',\n",
       "  'icebergQty': '0.00000000',\n",
       "  'time': 1631823395511,\n",
       "  'updateTime': 1631823556657,\n",
       "  'isWorking': True,\n",
       "  'origQuoteOrderQty': '0.00000000'},\n",
       " {'symbol': 'ETHEUR',\n",
       "  'orderId': 961830453,\n",
       "  'orderListId': -1,\n",
       "  'clientOrderId': 'uskMZTH0F5yaHjX2Uzo3Oy',\n",
       "  'price': '2500.00000000',\n",
       "  'origQty': '0.01000000',\n",
       "  'executedQty': '0.00000000',\n",
       "  'cummulativeQuoteQty': '0.00000000',\n",
       "  'status': 'CANCELED',\n",
       "  'timeInForce': 'GTC',\n",
       "  'type': 'LIMIT',\n",
       "  'side': 'BUY',\n",
       "  'stopPrice': '0.00000000',\n",
       "  'icebergQty': '0.00000000',\n",
       "  'time': 1631911810946,\n",
       "  'updateTime': 1631911835419,\n",
       "  'isWorking': True,\n",
       "  'origQuoteOrderQty': '0.00000000'},\n",
       " {'symbol': 'ETHEUR',\n",
       "  'orderId': 961847403,\n",
       "  'orderListId': -1,\n",
       "  'clientOrderId': 'VPLTRCH3syGemQtzTIhWZn',\n",
       "  'price': '2500.00000000',\n",
       "  'origQty': '0.01000000',\n",
       "  'executedQty': '0.00000000',\n",
       "  'cummulativeQuoteQty': '0.00000000',\n",
       "  'status': 'EXPIRED',\n",
       "  'timeInForce': 'FOK',\n",
       "  'type': 'LIMIT',\n",
       "  'side': 'BUY',\n",
       "  'stopPrice': '0.00000000',\n",
       "  'icebergQty': '0.00000000',\n",
       "  'time': 1631912414193,\n",
       "  'updateTime': 1631912414193,\n",
       "  'isWorking': True,\n",
       "  'origQuoteOrderQty': '0.00000000'},\n",
       " {'symbol': 'ETHEUR',\n",
       "  'orderId': 961851527,\n",
       "  'orderListId': -1,\n",
       "  'clientOrderId': 'sQlu6VnSwgMBLzSfKcr0YG',\n",
       "  'price': '2500.00000000',\n",
       "  'origQty': '0.01000000',\n",
       "  'executedQty': '0.00000000',\n",
       "  'cummulativeQuoteQty': '0.00000000',\n",
       "  'status': 'EXPIRED',\n",
       "  'timeInForce': 'IOC',\n",
       "  'type': 'LIMIT',\n",
       "  'side': 'BUY',\n",
       "  'stopPrice': '0.00000000',\n",
       "  'icebergQty': '0.00000000',\n",
       "  'time': 1631912486215,\n",
       "  'updateTime': 1631912486215,\n",
       "  'isWorking': True,\n",
       "  'origQuoteOrderQty': '0.00000000'}]"
      ]
     },
     "metadata": {},
     "execution_count": 11
    }
   ],
   "metadata": {}
  },
  {
   "cell_type": "code",
   "execution_count": 17,
   "source": [
    "orders[0]['orderId']"
   ],
   "outputs": [
    {
     "output_type": "execute_result",
     "data": {
      "text/plain": [
       "[{'symbol': 'ETHEUR',\n",
       "  'orderId': 958064387,\n",
       "  'orderListId': -1,\n",
       "  'clientOrderId': 'QNdzIw36rSvvipjyZ6vRuQ',\n",
       "  'price': '2900.00000000',\n",
       "  'origQty': '0.01000000',\n",
       "  'executedQty': '0.00000000',\n",
       "  'cummulativeQuoteQty': '0.00000000',\n",
       "  'status': 'NEW',\n",
       "  'timeInForce': 'GTC',\n",
       "  'type': 'LIMIT',\n",
       "  'side': 'BUY',\n",
       "  'stopPrice': '0.00000000',\n",
       "  'icebergQty': '0.00000000',\n",
       "  'time': 1631823395511,\n",
       "  'updateTime': 1631823395511,\n",
       "  'isWorking': True,\n",
       "  'origQuoteOrderQty': '0.00000000'}]"
      ]
     },
     "metadata": {},
     "execution_count": 17
    }
   ],
   "metadata": {}
  },
  {
   "cell_type": "code",
   "execution_count": 18,
   "source": [
    "result = client.cancel_order(\n",
    "    symbol='ETHEUR',\n",
    "    orderId=orders[0]['orderId'])"
   ],
   "outputs": [],
   "metadata": {}
  },
  {
   "cell_type": "code",
   "execution_count": 22,
   "source": [
    "order"
   ],
   "outputs": [
    {
     "output_type": "execute_result",
     "data": {
      "text/plain": [
       "{'symbol': 'ETHEUR',\n",
       " 'orderId': 958064387,\n",
       " 'orderListId': -1,\n",
       " 'clientOrderId': 'QNdzIw36rSvvipjyZ6vRuQ',\n",
       " 'transactTime': 1631823395511,\n",
       " 'price': '2900.00000000',\n",
       " 'origQty': '0.01000000',\n",
       " 'executedQty': '0.00000000',\n",
       " 'cummulativeQuoteQty': '0.00000000',\n",
       " 'status': 'NEW',\n",
       " 'timeInForce': 'GTC',\n",
       " 'type': 'LIMIT',\n",
       " 'side': 'BUY',\n",
       " 'fills': []}"
      ]
     },
     "metadata": {},
     "execution_count": 22
    }
   ],
   "metadata": {}
  },
  {
   "cell_type": "code",
   "execution_count": 19,
   "source": [
    "from datetime import datetime\n",
    "import pytz\n",
    "datetime.fromtimestamp(order['transactTime']/ 1000.0).astimezone(pytz.utc)\n"
   ],
   "outputs": [
    {
     "output_type": "execute_result",
     "data": {
      "text/plain": [
       "datetime.datetime(2021, 9, 17, 21, 1, 26, 215000, tzinfo=<UTC>)"
      ]
     },
     "metadata": {},
     "execution_count": 19
    }
   ],
   "metadata": {}
  },
  {
   "cell_type": "code",
   "execution_count": 1,
   "source": [
    "from connectors import BinanceConnector\n",
    "binance_connector = BinanceConnector()\n",
    "binance_connector.account_balance\n",
    "\n",
    "binance_connector.buy_eth(0.01, 2886)"
   ],
   "outputs": [
    {
     "output_type": "stream",
     "name": "stdout",
     "text": [
      "client <binance.client.Client object at 0x7f71082089d0>\n",
      "current_etheur_value 2885.62\n",
      "account_balance.to_influx() {'measurement': 'binance_account_balance', 'tags': {'pair': 'ETH-EUR', 'exchange': 'Binance'}, 'time': datetime.datetime(2021, 9, 17, 21, 35, 11, 337531), 'fields': {'eur_available': 1099.6, 'eth_available': 0.02, 'balance_total': 1160.13}}\n",
      "base_price 2885.62\n",
      "bidding_value 2885.62\n",
      "client <binance.client.Client object at 0x7f70d3015110>\n",
      "{'symbol': 'ETHEUR', 'orderId': 961930562, 'orderListId': -1, 'clientOrderId': 'z8DE4sCxQ5A54wNtpJOyFY', 'transactTime': 1631914511719, 'price': '2885.62000000', 'origQty': '0.10000000', 'executedQty': '0.00000000', 'cummulativeQuoteQty': '0.00000000', 'status': 'EXPIRED', 'timeInForce': 'FOK', 'type': 'LIMIT', 'side': 'BUY', 'fills': []}\n",
      "order {'symbol': 'ETHEUR', 'orderId': 961930562, 'orderListId': -1, 'clientOrderId': 'z8DE4sCxQ5A54wNtpJOyFY', 'transactTime': 1631914511719, 'price': '2885.62000000', 'origQty': '0.10000000', 'executedQty': '0.00000000', 'cummulativeQuoteQty': '0.00000000', 'status': 'EXPIRED', 'timeInForce': 'FOK', 'type': 'LIMIT', 'side': 'BUY', 'fills': []}\n",
      "order_id 961930562\n",
      "client <binance.client.Client object at 0x7f70d37957d0>\n",
      "status_content EXPIRED\n",
      "bidding_value 2885.92\n",
      "client <binance.client.Client object at 0x7f70d2e61210>\n",
      "{'symbol': 'ETHEUR', 'orderId': 961930686, 'orderListId': -1, 'clientOrderId': 'SHFneSGbeMYaKVrWslAMy1', 'transactTime': 1631914524298, 'price': '2885.92000000', 'origQty': '0.10000000', 'executedQty': '0.00000000', 'cummulativeQuoteQty': '0.00000000', 'status': 'EXPIRED', 'timeInForce': 'FOK', 'type': 'LIMIT', 'side': 'BUY', 'fills': []}\n",
      "order {'symbol': 'ETHEUR', 'orderId': 961930686, 'orderListId': -1, 'clientOrderId': 'SHFneSGbeMYaKVrWslAMy1', 'transactTime': 1631914524298, 'price': '2885.92000000', 'origQty': '0.10000000', 'executedQty': '0.00000000', 'cummulativeQuoteQty': '0.00000000', 'status': 'EXPIRED', 'timeInForce': 'FOK', 'type': 'LIMIT', 'side': 'BUY', 'fills': []}\n",
      "order_id 961930686\n",
      "client <binance.client.Client object at 0x7f70d363e6d0>\n",
      "status_content EXPIRED\n",
      "bidding_value 2886.22\n",
      "client <binance.client.Client object at 0x7f70d3015950>\n",
      "{'symbol': 'ETHEUR', 'orderId': 961930791, 'orderListId': -1, 'clientOrderId': 'IkKhmo2MWLJvlhiXqO6OKs', 'transactTime': 1631914535962, 'price': '2886.22000000', 'origQty': '0.10000000', 'executedQty': '0.10000000', 'cummulativeQuoteQty': '288.59800000', 'status': 'FILLED', 'timeInForce': 'FOK', 'type': 'LIMIT', 'side': 'BUY', 'fills': [{'price': '2885.98000000', 'qty': '0.10000000', 'commission': '0.00010000', 'commissionAsset': 'ETH', 'tradeId': 45630883}]}\n",
      "order {'symbol': 'ETHEUR', 'orderId': 961930791, 'orderListId': -1, 'clientOrderId': 'IkKhmo2MWLJvlhiXqO6OKs', 'transactTime': 1631914535962, 'price': '2886.22000000', 'origQty': '0.10000000', 'executedQty': '0.10000000', 'cummulativeQuoteQty': '288.59800000', 'status': 'FILLED', 'timeInForce': 'FOK', 'type': 'LIMIT', 'side': 'BUY', 'fills': [{'price': '2885.98000000', 'qty': '0.10000000', 'commission': '0.00010000', 'commissionAsset': 'ETH', 'tradeId': 45630883}]}\n",
      "order_id 961930791\n",
      "client <binance.client.Client object at 0x7f70d4d9eb90>\n",
      "status_content FILLED\n"
     ]
    },
    {
     "output_type": "error",
     "ename": "KeyError",
     "evalue": "'transactTime'",
     "traceback": [
      "\u001b[0;31m---------------------------------------------------------------------------\u001b[0m",
      "\u001b[0;31mKeyError\u001b[0m                                  Traceback (most recent call last)",
      "\u001b[0;32m/tmp/ipykernel_913/2508070051.py\u001b[0m in \u001b[0;36m<module>\u001b[0;34m\u001b[0m\n\u001b[1;32m      3\u001b[0m \u001b[0mbinance_connector\u001b[0m\u001b[0;34m.\u001b[0m\u001b[0maccount_balance\u001b[0m\u001b[0;34m\u001b[0m\u001b[0;34m\u001b[0m\u001b[0m\n\u001b[1;32m      4\u001b[0m \u001b[0;34m\u001b[0m\u001b[0m\n\u001b[0;32m----> 5\u001b[0;31m \u001b[0mbinance_connector\u001b[0m\u001b[0;34m.\u001b[0m\u001b[0mbuy_eth\u001b[0m\u001b[0;34m(\u001b[0m\u001b[0;36m0.1\u001b[0m\u001b[0;34m,\u001b[0m \u001b[0;36m2886\u001b[0m\u001b[0;34m)\u001b[0m\u001b[0;34m\u001b[0m\u001b[0;34m\u001b[0m\u001b[0m\n\u001b[0m",
      "\u001b[0;32m/mnt/c/Users/rapha/Documents/GitRepositories/robobee/account/connectors.py\u001b[0m in \u001b[0;36mbuy_eth\u001b[0;34m(self, amount, price)\u001b[0m\n\u001b[1;32m    708\u001b[0m                 \u001b[0mprint\u001b[0m\u001b[0;34m(\u001b[0m\u001b[0;34m\"status_content\"\u001b[0m\u001b[0;34m,\u001b[0m \u001b[0mstatus_content\u001b[0m\u001b[0;34m[\u001b[0m\u001b[0;34m'status'\u001b[0m\u001b[0;34m]\u001b[0m\u001b[0;34m)\u001b[0m\u001b[0;34m\u001b[0m\u001b[0;34m\u001b[0m\u001b[0m\n\u001b[1;32m    709\u001b[0m                 \u001b[0;32mif\u001b[0m \u001b[0mstatus_content\u001b[0m\u001b[0;34m[\u001b[0m\u001b[0;34m'status'\u001b[0m\u001b[0;34m]\u001b[0m \u001b[0;34m==\u001b[0m \u001b[0;34m'FILLED'\u001b[0m\u001b[0;34m:\u001b[0m\u001b[0;34m\u001b[0m\u001b[0;34m\u001b[0m\u001b[0m\n\u001b[0;32m--> 710\u001b[0;31m                     transaction = Transaction(timestamp_utc=datetime.fromtimestamp(status_content['transactTime']/ 1000.0).astimezone(pytz.utc)\n\u001b[0m\u001b[1;32m    711\u001b[0m                                                 \u001b[0;34m,\u001b[0m \u001b[0mexchange\u001b[0m\u001b[0;34m=\u001b[0m\u001b[0;34m\"Binance\"\u001b[0m\u001b[0;34m,\u001b[0m \u001b[0mpair\u001b[0m\u001b[0;34m=\u001b[0m\u001b[0;34m\"ETH-EUR\"\u001b[0m\u001b[0;34m,\u001b[0m \u001b[0mamount\u001b[0m\u001b[0;34m=\u001b[0m\u001b[0mfloat\u001b[0m\u001b[0;34m(\u001b[0m\u001b[0mstatus_content\u001b[0m\u001b[0;34m[\u001b[0m\u001b[0;34m'executedQty'\u001b[0m\u001b[0;34m]\u001b[0m\u001b[0;34m)\u001b[0m\u001b[0;34m\u001b[0m\u001b[0;34m\u001b[0m\u001b[0m\n\u001b[1;32m    712\u001b[0m                                                 \u001b[0;34m,\u001b[0m \u001b[0mprice\u001b[0m\u001b[0;34m=\u001b[0m\u001b[0mfloat\u001b[0m\u001b[0;34m(\u001b[0m\u001b[0mstatus_content\u001b[0m\u001b[0;34m[\u001b[0m\u001b[0;34m'price'\u001b[0m\u001b[0;34m]\u001b[0m\u001b[0;34m)\u001b[0m\u001b[0;34m\u001b[0m\u001b[0;34m\u001b[0m\u001b[0m\n",
      "\u001b[0;31mKeyError\u001b[0m: 'transactTime'"
     ]
    }
   ],
   "metadata": {}
  },
  {
   "cell_type": "code",
   "execution_count": 3,
   "source": [
    "orders"
   ],
   "outputs": [
    {
     "output_type": "error",
     "ename": "NameError",
     "evalue": "name 'orders' is not defined",
     "traceback": [
      "\u001b[0;31m---------------------------------------------------------------------------\u001b[0m",
      "\u001b[0;31mNameError\u001b[0m                                 Traceback (most recent call last)",
      "\u001b[0;32m/tmp/ipykernel_913/2241475415.py\u001b[0m in \u001b[0;36m<module>\u001b[0;34m\u001b[0m\n\u001b[0;32m----> 1\u001b[0;31m \u001b[0morders\u001b[0m\u001b[0;34m\u001b[0m\u001b[0;34m\u001b[0m\u001b[0m\n\u001b[0m",
      "\u001b[0;31mNameError\u001b[0m: name 'orders' is not defined"
     ]
    }
   ],
   "metadata": {}
  },
  {
   "cell_type": "code",
   "execution_count": null,
   "source": [],
   "outputs": [],
   "metadata": {}
  }
 ],
 "metadata": {
  "interpreter": {
   "hash": "4d4ded5e29dd4fc758154d78d2103b991c08d50753e23f853f9c59cfa387079a"
  },
  "kernelspec": {
   "name": "python3",
   "display_name": "Python 3.7.5 64-bit ('robobee-cWPIRZRy': pipenv)"
  },
  "language_info": {
   "codemirror_mode": {
    "name": "ipython",
    "version": 3
   },
   "file_extension": ".py",
   "mimetype": "text/x-python",
   "name": "python",
   "nbconvert_exporter": "python",
   "pygments_lexer": "ipython3",
   "version": "3.7.5"
  }
 },
 "nbformat": 4,
 "nbformat_minor": 5
}